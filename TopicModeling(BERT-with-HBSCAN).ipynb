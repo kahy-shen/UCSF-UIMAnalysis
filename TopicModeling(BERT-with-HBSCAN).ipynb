{
 "cells": [
  {
   "cell_type": "code",
   "execution_count": 1,
   "id": "cdd55e98-427a-4bba-8030-edbbfb1871d8",
   "metadata": {},
   "outputs": [],
   "source": [
    "import pandas as pd"
   ]
  },
  {
   "cell_type": "code",
   "execution_count": 7,
   "id": "beed5b90-6f6e-4092-a282-c7b8d7f0483f",
   "metadata": {},
   "outputs": [],
   "source": [
    "comments = pd.read_excel('Sub-I equity eval-comments-20230907.xlsx')"
   ]
  },
  {
   "cell_type": "code",
   "execution_count": 8,
   "id": "5324c60f-f654-41a0-9b96-d3bf3d38d2ee",
   "metadata": {},
   "outputs": [],
   "source": [
    "comments['Comment'].fillna('', inplace=True)"
   ]
  },
  {
   "cell_type": "code",
   "execution_count": 2,
   "id": "ba781b8e-2caf-451d-a42a-854e11ce6a8b",
   "metadata": {},
   "outputs": [],
   "source": [
    "subICommets = pd.read_excel('Sub-I equity eval-comments-20230907.xlsx', 'Sub-I comments')"
   ]
  },
  {
   "cell_type": "code",
   "execution_count": 3,
   "id": "f6ffc353",
   "metadata": {},
   "outputs": [],
   "source": [
    "subICommets['Comment'].fillna('', inplace=True)"
   ]
  },
  {
   "cell_type": "code",
   "execution_count": 7,
   "id": "3dc54d32-aabf-48b9-8f1d-045de5ecb6a7",
   "metadata": {},
   "outputs": [],
   "source": [
    "studentInfo = pd.read_excel('Sub-I equity eval-20230526.xlsx')\n",
    "studentInfo = studentInfo.set_index('DEid')"
   ]
  },
  {
   "cell_type": "code",
   "execution_count": 12,
   "id": "78012bd2-f853-4e59-a176-ecbd2e451bf2",
   "metadata": {},
   "outputs": [],
   "source": [
    "StudentIDs = comments['DeID'].unique()"
   ]
  },
  {
   "cell_type": "code",
   "execution_count": 13,
   "id": "834ab7de-da28-494b-9125-955ee6efe19c",
   "metadata": {},
   "outputs": [
    {
     "name": "stdout",
     "output_type": "stream",
     "text": [
      "1473\n"
     ]
    }
   ],
   "source": [
    "print(len(StudentIDs))"
   ]
  },
  {
   "cell_type": "code",
   "execution_count": 4,
   "id": "412f42a3-72b7-4d22-94e3-73ed39d9c2aa",
   "metadata": {},
   "outputs": [],
   "source": [
    "from tqdm import tqdm\n",
    "from sentence_transformers import SentenceTransformer\n",
    "from sklearn.metrics.pairwise import cosine_similarity\n",
    "\n",
    "Embmodel = SentenceTransformer('all-MiniLM-L6-v2')"
   ]
  },
  {
   "cell_type": "code",
   "execution_count": 14,
   "id": "e3d80d59-5e0b-4aa4-8746-8f16a51444a9",
   "metadata": {},
   "outputs": [],
   "source": [
    "InfoDict = {'ANES 110': 'anes_grade', 'FCM 110': 'fcm_grade', 'MED 110': 'med_grade', 'NEURO 110': 'neuro_grade', 'OBGYN 110': 'obgyn_grade',\n",
    "           'PEDS 110': 'peds_grade', 'PSYCH 110': 'psych_grade', 'SURG 110': 'surg_grade'}"
   ]
  },
  {
   "cell_type": "code",
   "execution_count": 5,
   "id": "83424eea-2d14-4213-acf9-e32ee1f34ca7",
   "metadata": {},
   "outputs": [],
   "source": [
    "def getUIMNNonUIMComment(commentType):\n",
    "    filteredComment = subICommets[(subICommets['Comment type']==commentType)]\n",
    "    merged_Comment = filteredComment.merge(studentInfo, left_on='DeID', right_index=True, how='left')\n",
    "    UIM_Comment = merged_Comment[(merged_Comment['isURM']==1)]\n",
    "    NonUIM_Comment = merged_Comment[(merged_Comment['isURM']==0)]\n",
    "    return UIM_Comment, NonUIM_Comment"
   ]
  },
  {
   "cell_type": "code",
   "execution_count": 50,
   "id": "11a4dc0a-70f1-413e-a8b7-69e982a0b2b8",
   "metadata": {},
   "outputs": [],
   "source": [
    "UIM_comment, NonUIM_comment = getUIMNNonUIMComment('Summary Comments')"
   ]
  },
  {
   "cell_type": "code",
   "execution_count": null,
   "id": "23872002",
   "metadata": {},
   "outputs": [],
   "source": []
  },
  {
   "cell_type": "code",
   "execution_count": 78,
   "id": "318984ce",
   "metadata": {},
   "outputs": [],
   "source": [
    "def getUIMNNonUIMComment(courseName, commentType):\n",
    "    filteredComment = subICommets[(subICommets['Comment type']==commentType) & (subICommets['Course'] ==courseName)]\n",
    "    merged_Comment = filteredComment.merge(studentInfo, left_on='DeID', right_index=True, how='left')\n",
    "    UIM_Comment = merged_Comment[(merged_Comment['isURM']==1)]\n",
    "    NonUIM_Comment = merged_Comment[(merged_Comment['isURM']==0)]\n",
    "    return UIM_Comment, NonUIM_Comment"
   ]
  },
  {
   "cell_type": "code",
   "execution_count": 79,
   "id": "f7819527",
   "metadata": {},
   "outputs": [],
   "source": [
    "UIM_SubI_comment, NonUIM_SubI_comment = getUIMNNonUIMComment('MED 140.01C', 'Constructive Comments')"
   ]
  },
  {
   "cell_type": "code",
   "execution_count": 17,
   "id": "fad683f2",
   "metadata": {},
   "outputs": [
    {
     "name": "stdout",
     "output_type": "stream",
     "text": [
      "        DeID core_year_x  bridges_ind_x    Course           Comment type  \\\n",
      "179     BAAA        2019              1  SURG 110  Constructive Comments   \n",
      "180     BAAA        2019              1  SURG 110  Constructive Comments   \n",
      "181     BAAA        2019              1  SURG 110  Constructive Comments   \n",
      "182     BAAA        2019              1  SURG 110  Constructive Comments   \n",
      "183     BAAA        2019              1  SURG 110  Constructive Comments   \n",
      "...      ...         ...            ...       ...                    ...   \n",
      "304694   ZZW        2019              1  SURG 110  Constructive Comments   \n",
      "304695   ZZW        2019              1  SURG 110  Constructive Comments   \n",
      "304889   ZZZ        2019              1  SURG 110  Constructive Comments   \n",
      "304890   ZZZ        2019              1  SURG 110  Constructive Comments   \n",
      "304891   ZZZ        2019              1  SURG 110  Constructive Comments   \n",
      "\n",
      "                                                  Comment core_year_y  \\\n",
      "179     Gained more understanding about patient's dise...        2019   \n",
      "180     XX did a great job overall and he was a pleasu...        2019   \n",
      "181                         We encourage him to speak up.        2019   \n",
      "182                      On the right track keep reading.        2019   \n",
      "183                             Improved and strong work.        2019   \n",
      "...                                                   ...         ...   \n",
      "304694                                                  -        2019   \n",
      "304695  Keep thinking big picture - what do you want t...        2019   \n",
      "304889  Good documentation. Would encourage you take m...        2019   \n",
      "304890  The next steps in his development is to start ...        2019   \n",
      "304891                                          no issues        2019   \n",
      "\n",
      "        bridges_ind_y gender  entry_year  ...  Step1_score Step1_grade  \\\n",
      "179                 1      M        2017  ...        215.0           P   \n",
      "180                 1      M        2017  ...        215.0           P   \n",
      "181                 1      M        2017  ...        215.0           P   \n",
      "182                 1      M        2017  ...        215.0           P   \n",
      "183                 1      M        2017  ...        215.0           P   \n",
      "...               ...    ...         ...  ...          ...         ...   \n",
      "304694              1      M        2017  ...        227.0           P   \n",
      "304695              1      M        2017  ...        227.0           P   \n",
      "304889              1      M        2017  ...        233.0           P   \n",
      "304890              1      M        2017  ...        233.0           P   \n",
      "304891              1      M        2017  ...        233.0           P   \n",
      "\n",
      "        Step2_score  Step2_grade  mcat_date  mcat_1 mcat_2 mcat_3 mcat_4  \\\n",
      "179           205.0            F 2016-01-22   130.0  129.0  127.0  126.0   \n",
      "180           205.0            F 2016-01-22   130.0  129.0  127.0  126.0   \n",
      "181           205.0            F 2016-01-22   130.0  129.0  127.0  126.0   \n",
      "182           205.0            F 2016-01-22   130.0  129.0  127.0  126.0   \n",
      "183           205.0            F 2016-01-22   130.0  129.0  127.0  126.0   \n",
      "...             ...          ...        ...     ...    ...    ...    ...   \n",
      "304694        226.0            P 2014-09-06    11.0   12.0   13.0    NaN   \n",
      "304695        226.0            P 2014-09-06    11.0   12.0   13.0    NaN   \n",
      "304889        235.0            P 2015-01-08     9.0   12.0    6.0    NaN   \n",
      "304890        235.0            P 2015-01-08     9.0   12.0    6.0    NaN   \n",
      "304891        235.0            P 2015-01-08     9.0   12.0    6.0    NaN   \n",
      "\n",
      "       mcat_comb  \n",
      "179        512.0  \n",
      "180        512.0  \n",
      "181        512.0  \n",
      "182        512.0  \n",
      "183        512.0  \n",
      "...          ...  \n",
      "304694      36.0  \n",
      "304695      36.0  \n",
      "304889      27.0  \n",
      "304890      27.0  \n",
      "304891      27.0  \n",
      "\n",
      "[2477 rows x 149 columns]\n"
     ]
    }
   ],
   "source": [
    "print(UIM_comment)"
   ]
  },
  {
   "cell_type": "code",
   "execution_count": 31,
   "id": "7e256bd1-e355-4bbe-9004-bbc59ac3fe4e",
   "metadata": {},
   "outputs": [],
   "source": [
    "grouped_UIM_comments = UIM_comment.groupby('DeID')['Comment'].agg(list).reset_index()\n",
    "grouped_NonUIM_comments = NonUIM_comment.groupby('DeID')['Comment'].agg(list).reset_index()"
   ]
  },
  {
   "cell_type": "code",
   "execution_count": 58,
   "id": "187b2932-3923-40bf-8f29-9d2d2a2daeff",
   "metadata": {},
   "outputs": [],
   "source": [
    "from sentence_transformers import SentenceTransformer\n",
    "from umap import UMAP\n",
    "from hdbscan import HDBSCAN\n",
    "\n",
    "embedding_model = SentenceTransformer('all-MiniLM-L6-v2')\n",
    "umap_model = UMAP(n_neighbors=5, n_components=5, min_dist=0.005)\n",
    "hdbscan_model = HDBSCAN(min_cluster_size=5, min_samples=3,\n",
    "                        gen_min_span_tree=True,\n",
    "                        prediction_data=True)\n",
    "from sklearn.feature_extraction.text import CountVectorizer\n",
    "from nltk.corpus import stopwords\n",
    "\n",
    "vectorizer_model = CountVectorizer(ngram_range=(1, 2), stop_words=stopwords.words('english'))\n",
    "from bertopic import BERTopic\n",
    "\n",
    "model = BERTopic(\n",
    "    umap_model=umap_model,\n",
    "    hdbscan_model=hdbscan_model,\n",
    "    embedding_model=embedding_model,\n",
    "    vectorizer_model=vectorizer_model,\n",
    "    top_n_words=5,\n",
    "    language='english',\n",
    "    calculate_probabilities=True,\n",
    "    verbose=True\n",
    ")"
   ]
  },
  {
   "cell_type": "code",
   "execution_count": 62,
   "id": "9a38b0c3",
   "metadata": {},
   "outputs": [
    {
     "data": {
      "application/vnd.jupyter.widget-view+json": {
       "model_id": "63368ae5297c4411902bde00e3f900a2",
       "version_major": 2,
       "version_minor": 0
      },
      "text/plain": [
       "Batches:   0%|          | 0/23 [00:00<?, ?it/s]"
      ]
     },
     "metadata": {},
     "output_type": "display_data"
    },
    {
     "name": "stderr",
     "output_type": "stream",
     "text": [
      "2023-10-02 20:05:43,691 - BERTopic - Transformed documents to Embeddings\n",
      "2023-10-02 20:05:45,846 - BERTopic - Reduced dimensionality\n",
      "2023-10-02 20:05:45,985 - BERTopic - Clustered reduced embeddings\n"
     ]
    }
   ],
   "source": [
    "topic_model = model.fit([x for x in UIM_comment['Comment'].values.tolist() if len(x.split(' ')) > 5])"
   ]
  },
  {
   "cell_type": "code",
   "execution_count": 63,
   "id": "5d2f13c5-cee8-42e0-8ca4-6abdea97bc51",
   "metadata": {},
   "outputs": [
    {
     "data": {
      "text/html": [
       "<div>\n",
       "<style scoped>\n",
       "    .dataframe tbody tr th:only-of-type {\n",
       "        vertical-align: middle;\n",
       "    }\n",
       "\n",
       "    .dataframe tbody tr th {\n",
       "        vertical-align: top;\n",
       "    }\n",
       "\n",
       "    .dataframe thead th {\n",
       "        text-align: right;\n",
       "    }\n",
       "</style>\n",
       "<table border=\"1\" class=\"dataframe\">\n",
       "  <thead>\n",
       "    <tr style=\"text-align: right;\">\n",
       "      <th></th>\n",
       "      <th>Topic</th>\n",
       "      <th>Count</th>\n",
       "      <th>Name</th>\n",
       "      <th>Representation</th>\n",
       "      <th>Representative_Docs</th>\n",
       "    </tr>\n",
       "  </thead>\n",
       "  <tbody>\n",
       "    <tr>\n",
       "      <th>0</th>\n",
       "      <td>-1</td>\n",
       "      <td>69</td>\n",
       "      <td>-1_xx_patients_care_patient</td>\n",
       "      <td>[xx, patients, care, patient, skills]</td>\n",
       "      <td>[XX functioned at the level of an intern putti...</td>\n",
       "    </tr>\n",
       "    <tr>\n",
       "      <th>1</th>\n",
       "      <td>0</td>\n",
       "      <td>28</td>\n",
       "      <td>0_inpatient_family medicine_family_advanced in...</td>\n",
       "      <td>[inpatient, family medicine, family, advanced ...</td>\n",
       "      <td>[On her Family Medicine Advanced Inpatient Cle...</td>\n",
       "    </tr>\n",
       "    <tr>\n",
       "      <th>2</th>\n",
       "      <td>1</td>\n",
       "      <td>24</td>\n",
       "      <td>1_fred_patients_care_team</td>\n",
       "      <td>[fred, patients, care, team, firo]</td>\n",
       "      <td>[XX was outstanding in his care of patients on...</td>\n",
       "    </tr>\n",
       "    <tr>\n",
       "      <th>3</th>\n",
       "      <td>2</td>\n",
       "      <td>20</td>\n",
       "      <td>2_level_intern_functioned level_xx functioned</td>\n",
       "      <td>[level, intern, functioned level, xx functione...</td>\n",
       "      <td>[XX functioned at the level of an intern durin...</td>\n",
       "    </tr>\n",
       "    <tr>\n",
       "      <th>4</th>\n",
       "      <td>3</td>\n",
       "      <td>20</td>\n",
       "      <td>3_xx_patient_patients_care</td>\n",
       "      <td>[xx, patient, patients, care, plans]</td>\n",
       "      <td>[XX took on management of very medically and s...</td>\n",
       "    </tr>\n",
       "    <tr>\n",
       "      <th>5</th>\n",
       "      <td>4</td>\n",
       "      <td>18</td>\n",
       "      <td>4_student_student doctor_doctor xx_doctor</td>\n",
       "      <td>[student, student doctor, doctor xx, doctor, m...</td>\n",
       "      <td>[Student doctor XX was a welcome and valued ad...</td>\n",
       "    </tr>\n",
       "    <tr>\n",
       "      <th>6</th>\n",
       "      <td>5</td>\n",
       "      <td>17</td>\n",
       "      <td>5_xx displayed_jon_patients_outstanding</td>\n",
       "      <td>[xx displayed, jon, patients, outstanding, man...</td>\n",
       "      <td>[XX displayed excellent fund of knowledge/clin...</td>\n",
       "    </tr>\n",
       "    <tr>\n",
       "      <th>7</th>\n",
       "      <td>6</td>\n",
       "      <td>16</td>\n",
       "      <td>6_medicine sub_skills medicine_skills_xx exhib...</td>\n",
       "      <td>[medicine sub, skills medicine, skills, xx exh...</td>\n",
       "      <td>[XX exhibited outstanding knowledge and reason...</td>\n",
       "    </tr>\n",
       "    <tr>\n",
       "      <th>8</th>\n",
       "      <td>7</td>\n",
       "      <td>16</td>\n",
       "      <td>7_patients_francisco_san_san francisco</td>\n",
       "      <td>[patients, francisco, san, san francisco, gene...</td>\n",
       "      <td>[XX  mastered the art of staying structured or...</td>\n",
       "    </tr>\n",
       "    <tr>\n",
       "      <th>9</th>\n",
       "      <td>8</td>\n",
       "      <td>16</td>\n",
       "      <td>8_joe_abdi_patients_multiple</td>\n",
       "      <td>[joe, abdi, patients, multiple, patient]</td>\n",
       "      <td>[Joe did a great job on the medicine acting in...</td>\n",
       "    </tr>\n",
       "    <tr>\n",
       "      <th>10</th>\n",
       "      <td>9</td>\n",
       "      <td>15</td>\n",
       "      <td>9_team_patients_kaz_clinical</td>\n",
       "      <td>[team, patients, kaz, clinical, knowledge]</td>\n",
       "      <td>[XX displayed very good fund of knowledge/prob...</td>\n",
       "    </tr>\n",
       "    <tr>\n",
       "      <th>11</th>\n",
       "      <td>10</td>\n",
       "      <td>15</td>\n",
       "      <td>10_xx displayed_displayed_displayed excellent_xx</td>\n",
       "      <td>[xx displayed, displayed, displayed excellent,...</td>\n",
       "      <td>[XX displayed excellent fund of knowledge/prob...</td>\n",
       "    </tr>\n",
       "    <tr>\n",
       "      <th>12</th>\n",
       "      <td>11</td>\n",
       "      <td>15</td>\n",
       "      <td>11_berky_patients_team_hospital</td>\n",
       "      <td>[berky, patients, team, hospital, plans]</td>\n",
       "      <td>[From XX's first day of her sub-internship she...</td>\n",
       "    </tr>\n",
       "    <tr>\n",
       "      <th>13</th>\n",
       "      <td>12</td>\n",
       "      <td>15</td>\n",
       "      <td>12_xxta_clinical_history_patients</td>\n",
       "      <td>[xxta, clinical, history, patients, xx]</td>\n",
       "      <td>[XXta did a fantastic job of clinical care and...</td>\n",
       "    </tr>\n",
       "    <tr>\n",
       "      <th>14</th>\n",
       "      <td>13</td>\n",
       "      <td>14</td>\n",
       "      <td>13_patient_xx_care_patients</td>\n",
       "      <td>[patient, xx, care, patients, patient care]</td>\n",
       "      <td>[XX delivered thorough presentations clearly i...</td>\n",
       "    </tr>\n",
       "    <tr>\n",
       "      <th>15</th>\n",
       "      <td>14</td>\n",
       "      <td>13</td>\n",
       "      <td>14_xx_rotation_patient_able</td>\n",
       "      <td>[xx, rotation, patient, able, skills]</td>\n",
       "      <td>[During his medicine subinternship, XX worked ...</td>\n",
       "    </tr>\n",
       "    <tr>\n",
       "      <th>16</th>\n",
       "      <td>15</td>\n",
       "      <td>13</td>\n",
       "      <td>15_jackie_patient_patients_prioritize</td>\n",
       "      <td>[jackie, patient, patients, prioritize, presen...</td>\n",
       "      <td>[XX (Jackie) took a compassionate approach to ...</td>\n",
       "    </tr>\n",
       "    <tr>\n",
       "      <th>17</th>\n",
       "      <td>16</td>\n",
       "      <td>13</td>\n",
       "      <td>16_nyasha_lizzy_patients_excellent</td>\n",
       "      <td>[nyasha, lizzy, patients, excellent, clinical]</td>\n",
       "      <td>[Lizzy's history taking and patient education ...</td>\n",
       "    </tr>\n",
       "    <tr>\n",
       "      <th>18</th>\n",
       "      <td>17</td>\n",
       "      <td>12</td>\n",
       "      <td>17_xx_complex_patient_patients</td>\n",
       "      <td>[xx, complex, patient, patients, consistently]</td>\n",
       "      <td>[XX played an important role in the case of hi...</td>\n",
       "    </tr>\n",
       "    <tr>\n",
       "      <th>19</th>\n",
       "      <td>18</td>\n",
       "      <td>12</td>\n",
       "      <td>18_care_patients_xx_team</td>\n",
       "      <td>[care, patients, xx, team, took]</td>\n",
       "      <td>[XX communicated with patients in a wonderful ...</td>\n",
       "    </tr>\n",
       "    <tr>\n",
       "      <th>20</th>\n",
       "      <td>19</td>\n",
       "      <td>12</td>\n",
       "      <td>19_xx_rotation_excellent_team</td>\n",
       "      <td>[xx, rotation, excellent, team, patients]</td>\n",
       "      <td>[XX displayed outstanding fund of knowledge/pr...</td>\n",
       "    </tr>\n",
       "    <tr>\n",
       "      <th>21</th>\n",
       "      <td>20</td>\n",
       "      <td>12</td>\n",
       "      <td>20_skills_skills medicine_medicine sub_xx exhi...</td>\n",
       "      <td>[skills, skills medicine, medicine sub, xx exh...</td>\n",
       "      <td>[XX exhibited excellent knowledge and reasonin...</td>\n",
       "    </tr>\n",
       "    <tr>\n",
       "      <th>22</th>\n",
       "      <td>21</td>\n",
       "      <td>12</td>\n",
       "      <td>21_general hospital_francisco general_general_...</td>\n",
       "      <td>[general hospital, francisco general, general,...</td>\n",
       "      <td>[XX is incredibly engaged, mature, and from da...</td>\n",
       "    </tr>\n",
       "    <tr>\n",
       "      <th>23</th>\n",
       "      <td>22</td>\n",
       "      <td>12</td>\n",
       "      <td>22_zuckerberg san_zuckerberg_patients_medicine...</td>\n",
       "      <td>[zuckerberg san, zuckerberg, patients, medicin...</td>\n",
       "      <td>[The medical histories taken by XX during her ...</td>\n",
       "    </tr>\n",
       "    <tr>\n",
       "      <th>24</th>\n",
       "      <td>23</td>\n",
       "      <td>11</td>\n",
       "      <td>23_alex_able_neurological_disc</td>\n",
       "      <td>[alex, able, neurological, disc, patients]</td>\n",
       "      <td>[XX demonstrated excellent clinical intuition ...</td>\n",
       "    </tr>\n",
       "    <tr>\n",
       "      <th>25</th>\n",
       "      <td>24</td>\n",
       "      <td>11</td>\n",
       "      <td>24_patients_plan_hospital_professional</td>\n",
       "      <td>[patients, plan, hospital, professional, zucke...</td>\n",
       "      <td>[XX knew exactly what was going on with his pa...</td>\n",
       "    </tr>\n",
       "    <tr>\n",
       "      <th>26</th>\n",
       "      <td>25</td>\n",
       "      <td>11</td>\n",
       "      <td>25_corinne_factors_patient_provided</td>\n",
       "      <td>[corinne, factors, patient, provided, efficient]</td>\n",
       "      <td>[In this medicine acting internship XX provide...</td>\n",
       "    </tr>\n",
       "    <tr>\n",
       "      <th>27</th>\n",
       "      <td>26</td>\n",
       "      <td>11</td>\n",
       "      <td>26_rexxent_noted_reasoning_month</td>\n",
       "      <td>[rexxent, noted, reasoning, month, skills]</td>\n",
       "      <td>[XX was a reliable team member during her medi...</td>\n",
       "    </tr>\n",
       "    <tr>\n",
       "      <th>28</th>\n",
       "      <td>27</td>\n",
       "      <td>10</td>\n",
       "      <td>27_matt_matt excellent_patients matt_patient</td>\n",
       "      <td>[matt, matt excellent, patients matt, patient,...</td>\n",
       "      <td>[XX exhibited outstanding knowledge and reason...</td>\n",
       "    </tr>\n",
       "    <tr>\n",
       "      <th>29</th>\n",
       "      <td>28</td>\n",
       "      <td>10</td>\n",
       "      <td>28_xx_care_rotation_patients</td>\n",
       "      <td>[xx, care, rotation, patients, patient]</td>\n",
       "      <td>[XX played an important role in the care of he...</td>\n",
       "    </tr>\n",
       "    <tr>\n",
       "      <th>30</th>\n",
       "      <td>29</td>\n",
       "      <td>10</td>\n",
       "      <td>29_day_patient_xx_outstanding job</td>\n",
       "      <td>[day, patient, xx, outstanding job, intern act...</td>\n",
       "      <td>[XX functioned at the level of an intern durin...</td>\n",
       "    </tr>\n",
       "    <tr>\n",
       "      <th>31</th>\n",
       "      <td>30</td>\n",
       "      <td>10</td>\n",
       "      <td>30_xx_patients_team_well</td>\n",
       "      <td>[xx, patients, team, well, patient]</td>\n",
       "      <td>[XX displayed a growth mindset during his Acti...</td>\n",
       "    </tr>\n",
       "    <tr>\n",
       "      <th>32</th>\n",
       "      <td>31</td>\n",
       "      <td>10</td>\n",
       "      <td>31_uche_nikko_clinical_skills</td>\n",
       "      <td>[uche, nikko, clinical, skills, good]</td>\n",
       "      <td>[XX displayed very good fund of knowledge/clin...</td>\n",
       "    </tr>\n",
       "    <tr>\n",
       "      <th>33</th>\n",
       "      <td>32</td>\n",
       "      <td>10</td>\n",
       "      <td>32_advanced_clerkship xx_clerkship_showed</td>\n",
       "      <td>[advanced, clerkship xx, clerkship, showed, fa...</td>\n",
       "      <td>[On his Family Medicine Advanced Inpatient Cle...</td>\n",
       "    </tr>\n",
       "    <tr>\n",
       "      <th>34</th>\n",
       "      <td>33</td>\n",
       "      <td>10</td>\n",
       "      <td>33_patients_quickly_notes_care</td>\n",
       "      <td>[patients, quickly, notes, care, physical exam]</td>\n",
       "      <td>[XX took thoughtful and careful histories with...</td>\n",
       "    </tr>\n",
       "    <tr>\n",
       "      <th>35</th>\n",
       "      <td>34</td>\n",
       "      <td>10</td>\n",
       "      <td>34_care_plans xx_team_xx</td>\n",
       "      <td>[care, plans xx, team, xx, plans]</td>\n",
       "      <td>[XX's work was equivalent to an intern's durin...</td>\n",
       "    </tr>\n",
       "    <tr>\n",
       "      <th>36</th>\n",
       "      <td>35</td>\n",
       "      <td>9</td>\n",
       "      <td>35_plan_differential diagnosis_diagnosis_disch...</td>\n",
       "      <td>[plan, differential diagnosis, diagnosis, disc...</td>\n",
       "      <td>[XX exhibited excellent knowledge and reasonin...</td>\n",
       "    </tr>\n",
       "    <tr>\n",
       "      <th>37</th>\n",
       "      <td>36</td>\n",
       "      <td>9</td>\n",
       "      <td>36_fibrillation_atrial_atrial fibrillation_hea...</td>\n",
       "      <td>[fibrillation, atrial, atrial fibrillation, he...</td>\n",
       "      <td>[On his Family Medicine Advanced Inpatient Cle...</td>\n",
       "    </tr>\n",
       "    <tr>\n",
       "      <th>38</th>\n",
       "      <td>37</td>\n",
       "      <td>8</td>\n",
       "      <td>37_team_xx_patients_tasks</td>\n",
       "      <td>[team, xx, patients, tasks, patient]</td>\n",
       "      <td>[XX operated at the level of an intern through...</td>\n",
       "    </tr>\n",
       "    <tr>\n",
       "      <th>39</th>\n",
       "      <td>38</td>\n",
       "      <td>8</td>\n",
       "      <td>38_patients_care_xx_consistently</td>\n",
       "      <td>[patients, care, xx, consistently, making]</td>\n",
       "      <td>[XX was a real star in ter of his patient care...</td>\n",
       "    </tr>\n",
       "    <tr>\n",
       "      <th>40</th>\n",
       "      <td>39</td>\n",
       "      <td>8</td>\n",
       "      <td>39_laurence_eager_always_xx</td>\n",
       "      <td>[laurence, eager, always, xx, patient]</td>\n",
       "      <td>[XX gave outstanding clinical presentations du...</td>\n",
       "    </tr>\n",
       "    <tr>\n",
       "      <th>41</th>\n",
       "      <td>40</td>\n",
       "      <td>8</td>\n",
       "      <td>40_erika_patients_member team_hunger</td>\n",
       "      <td>[erika, patients, member team, hunger, team]</td>\n",
       "      <td>[XX consistently knew the most pertinent exam ...</td>\n",
       "    </tr>\n",
       "    <tr>\n",
       "      <th>42</th>\n",
       "      <td>41</td>\n",
       "      <td>8</td>\n",
       "      <td>41_rexxent_xx_patients_complex</td>\n",
       "      <td>[rexxent, xx, patients, complex, care]</td>\n",
       "      <td>[XX displayed wonderful patient care and profe...</td>\n",
       "    </tr>\n",
       "    <tr>\n",
       "      <th>43</th>\n",
       "      <td>42</td>\n",
       "      <td>8</td>\n",
       "      <td>42_xx highly_xx_patients_complex</td>\n",
       "      <td>[xx highly, xx, patients, complex, role]</td>\n",
       "      <td>[XX exhibited outstanding knowledge and reason...</td>\n",
       "    </tr>\n",
       "    <tr>\n",
       "      <th>44</th>\n",
       "      <td>43</td>\n",
       "      <td>7</td>\n",
       "      <td>43_xx_xx outstanding_discharging_ent topics</td>\n",
       "      <td>[xx, xx outstanding, discharging, ent topics, ...</td>\n",
       "      <td>[XX delivered outstanding oral presentations t...</td>\n",
       "    </tr>\n",
       "    <tr>\n",
       "      <th>45</th>\n",
       "      <td>44</td>\n",
       "      <td>7</td>\n",
       "      <td>44_discharge_complex_skills_data</td>\n",
       "      <td>[discharge, complex, skills, data, thorough]</td>\n",
       "      <td>[XX outstanding excellent knowledge and reason...</td>\n",
       "    </tr>\n",
       "    <tr>\n",
       "      <th>46</th>\n",
       "      <td>45</td>\n",
       "      <td>7</td>\n",
       "      <td>45_tasks_xx_issues_displayed</td>\n",
       "      <td>[tasks, xx, issues, displayed, team]</td>\n",
       "      <td>[On her medicine acting internship XX conducte...</td>\n",
       "    </tr>\n",
       "    <tr>\n",
       "      <th>47</th>\n",
       "      <td>46</td>\n",
       "      <td>6</td>\n",
       "      <td>46_work_medicine advanced_advanced inpatient_i...</td>\n",
       "      <td>[work, medicine advanced, advanced inpatient, ...</td>\n",
       "      <td>[XX did outstanding work on his Family Medicin...</td>\n",
       "    </tr>\n",
       "    <tr>\n",
       "      <th>48</th>\n",
       "      <td>47</td>\n",
       "      <td>6</td>\n",
       "      <td>47_patients_multiple_complex_towards</td>\n",
       "      <td>[patients, multiple, complex, towards, one]</td>\n",
       "      <td>[XX did a phenomenal job using his history tak...</td>\n",
       "    </tr>\n",
       "    <tr>\n",
       "      <th>49</th>\n",
       "      <td>48</td>\n",
       "      <td>6</td>\n",
       "      <td>48_dom_information_xx functioned_outstanding</td>\n",
       "      <td>[dom, information, xx functioned, outstanding,...</td>\n",
       "      <td>[XX functioned at the level of an intern durin...</td>\n",
       "    </tr>\n",
       "    <tr>\n",
       "      <th>50</th>\n",
       "      <td>49</td>\n",
       "      <td>6</td>\n",
       "      <td>49_centered_demonstrated_demonstrated excellen...</td>\n",
       "      <td>[centered, demonstrated, demonstrated excellen...</td>\n",
       "      <td>[XX took advanced care of her patients on her ...</td>\n",
       "    </tr>\n",
       "    <tr>\n",
       "      <th>51</th>\n",
       "      <td>50</td>\n",
       "      <td>6</td>\n",
       "      <td>50_care_discharge_plans_arrange</td>\n",
       "      <td>[care, discharge, plans, arrange, patients]</td>\n",
       "      <td>[XX did an outstanding job caring for her pati...</td>\n",
       "    </tr>\n",
       "    <tr>\n",
       "      <th>52</th>\n",
       "      <td>51</td>\n",
       "      <td>6</td>\n",
       "      <td>51_cancer_expertly_patient_xx</td>\n",
       "      <td>[cancer, expertly, patient, xx, advice]</td>\n",
       "      <td>[XX functioned at the level of an intern durin...</td>\n",
       "    </tr>\n",
       "    <tr>\n",
       "      <th>53</th>\n",
       "      <td>52</td>\n",
       "      <td>6</td>\n",
       "      <td>52_outstanding_clinical_professional_skills</td>\n",
       "      <td>[outstanding, clinical, professional, skills, ...</td>\n",
       "      <td>[XX exhibited excellent knowledge and reasonin...</td>\n",
       "    </tr>\n",
       "    <tr>\n",
       "      <th>54</th>\n",
       "      <td>53</td>\n",
       "      <td>6</td>\n",
       "      <td>53_intern_xx consistently_operated_intern acting</td>\n",
       "      <td>[intern, xx consistently, operated, intern act...</td>\n",
       "      <td>[XX functioned at the level of an intern durin...</td>\n",
       "    </tr>\n",
       "    <tr>\n",
       "      <th>55</th>\n",
       "      <td>54</td>\n",
       "      <td>6</td>\n",
       "      <td>54_reasoning excellent_organized_became organi...</td>\n",
       "      <td>[reasoning excellent, organized, became organi...</td>\n",
       "      <td>[XX exhibited excellent knowledge and reasonin...</td>\n",
       "    </tr>\n",
       "    <tr>\n",
       "      <th>56</th>\n",
       "      <td>55</td>\n",
       "      <td>5</td>\n",
       "      <td>55_student_student doctor_doctor xx_doctor</td>\n",
       "      <td>[student, student doctor, doctor xx, doctor, l...</td>\n",
       "      <td>[On her Family Medicine Advanced Inpatient Cle...</td>\n",
       "    </tr>\n",
       "    <tr>\n",
       "      <th>57</th>\n",
       "      <td>56</td>\n",
       "      <td>5</td>\n",
       "      <td>56_joy_service_week_serve</td>\n",
       "      <td>[joy, service, week, serve, although]</td>\n",
       "      <td>[XX was a true \"acting intern\" on this busy se...</td>\n",
       "    </tr>\n",
       "    <tr>\n",
       "      <th>58</th>\n",
       "      <td>57</td>\n",
       "      <td>5</td>\n",
       "      <td>57_care_also_nicely_responded well</td>\n",
       "      <td>[care, also, nicely, responded well, xx]</td>\n",
       "      <td>[XX was an integral member of the team- he was...</td>\n",
       "    </tr>\n",
       "  </tbody>\n",
       "</table>\n",
       "</div>"
      ],
      "text/plain": [
       "    Topic  Count                                               Name  \\\n",
       "0      -1     69                        -1_xx_patients_care_patient   \n",
       "1       0     28  0_inpatient_family medicine_family_advanced in...   \n",
       "2       1     24                          1_fred_patients_care_team   \n",
       "3       2     20      2_level_intern_functioned level_xx functioned   \n",
       "4       3     20                         3_xx_patient_patients_care   \n",
       "5       4     18          4_student_student doctor_doctor xx_doctor   \n",
       "6       5     17            5_xx displayed_jon_patients_outstanding   \n",
       "7       6     16  6_medicine sub_skills medicine_skills_xx exhib...   \n",
       "8       7     16             7_patients_francisco_san_san francisco   \n",
       "9       8     16                       8_joe_abdi_patients_multiple   \n",
       "10      9     15                       9_team_patients_kaz_clinical   \n",
       "11     10     15   10_xx displayed_displayed_displayed excellent_xx   \n",
       "12     11     15                    11_berky_patients_team_hospital   \n",
       "13     12     15                  12_xxta_clinical_history_patients   \n",
       "14     13     14                        13_patient_xx_care_patients   \n",
       "15     14     13                        14_xx_rotation_patient_able   \n",
       "16     15     13              15_jackie_patient_patients_prioritize   \n",
       "17     16     13                 16_nyasha_lizzy_patients_excellent   \n",
       "18     17     12                     17_xx_complex_patient_patients   \n",
       "19     18     12                           18_care_patients_xx_team   \n",
       "20     19     12                      19_xx_rotation_excellent_team   \n",
       "21     20     12  20_skills_skills medicine_medicine sub_xx exhi...   \n",
       "22     21     12  21_general hospital_francisco general_general_...   \n",
       "23     22     12  22_zuckerberg san_zuckerberg_patients_medicine...   \n",
       "24     23     11                     23_alex_able_neurological_disc   \n",
       "25     24     11             24_patients_plan_hospital_professional   \n",
       "26     25     11                25_corinne_factors_patient_provided   \n",
       "27     26     11                   26_rexxent_noted_reasoning_month   \n",
       "28     27     10       27_matt_matt excellent_patients matt_patient   \n",
       "29     28     10                       28_xx_care_rotation_patients   \n",
       "30     29     10                  29_day_patient_xx_outstanding job   \n",
       "31     30     10                           30_xx_patients_team_well   \n",
       "32     31     10                      31_uche_nikko_clinical_skills   \n",
       "33     32     10          32_advanced_clerkship xx_clerkship_showed   \n",
       "34     33     10                     33_patients_quickly_notes_care   \n",
       "35     34     10                           34_care_plans xx_team_xx   \n",
       "36     35      9  35_plan_differential diagnosis_diagnosis_disch...   \n",
       "37     36      9  36_fibrillation_atrial_atrial fibrillation_hea...   \n",
       "38     37      8                          37_team_xx_patients_tasks   \n",
       "39     38      8                   38_patients_care_xx_consistently   \n",
       "40     39      8                        39_laurence_eager_always_xx   \n",
       "41     40      8               40_erika_patients_member team_hunger   \n",
       "42     41      8                     41_rexxent_xx_patients_complex   \n",
       "43     42      8                   42_xx highly_xx_patients_complex   \n",
       "44     43      7        43_xx_xx outstanding_discharging_ent topics   \n",
       "45     44      7                   44_discharge_complex_skills_data   \n",
       "46     45      7                       45_tasks_xx_issues_displayed   \n",
       "47     46      6  46_work_medicine advanced_advanced inpatient_i...   \n",
       "48     47      6               47_patients_multiple_complex_towards   \n",
       "49     48      6       48_dom_information_xx functioned_outstanding   \n",
       "50     49      6  49_centered_demonstrated_demonstrated excellen...   \n",
       "51     50      6                    50_care_discharge_plans_arrange   \n",
       "52     51      6                      51_cancer_expertly_patient_xx   \n",
       "53     52      6        52_outstanding_clinical_professional_skills   \n",
       "54     53      6   53_intern_xx consistently_operated_intern acting   \n",
       "55     54      6  54_reasoning excellent_organized_became organi...   \n",
       "56     55      5         55_student_student doctor_doctor xx_doctor   \n",
       "57     56      5                          56_joy_service_week_serve   \n",
       "58     57      5                 57_care_also_nicely_responded well   \n",
       "\n",
       "                                       Representation  \\\n",
       "0               [xx, patients, care, patient, skills]   \n",
       "1   [inpatient, family medicine, family, advanced ...   \n",
       "2                  [fred, patients, care, team, firo]   \n",
       "3   [level, intern, functioned level, xx functione...   \n",
       "4                [xx, patient, patients, care, plans]   \n",
       "5   [student, student doctor, doctor xx, doctor, m...   \n",
       "6   [xx displayed, jon, patients, outstanding, man...   \n",
       "7   [medicine sub, skills medicine, skills, xx exh...   \n",
       "8   [patients, francisco, san, san francisco, gene...   \n",
       "9            [joe, abdi, patients, multiple, patient]   \n",
       "10         [team, patients, kaz, clinical, knowledge]   \n",
       "11  [xx displayed, displayed, displayed excellent,...   \n",
       "12           [berky, patients, team, hospital, plans]   \n",
       "13            [xxta, clinical, history, patients, xx]   \n",
       "14        [patient, xx, care, patients, patient care]   \n",
       "15              [xx, rotation, patient, able, skills]   \n",
       "16  [jackie, patient, patients, prioritize, presen...   \n",
       "17     [nyasha, lizzy, patients, excellent, clinical]   \n",
       "18     [xx, complex, patient, patients, consistently]   \n",
       "19                   [care, patients, xx, team, took]   \n",
       "20          [xx, rotation, excellent, team, patients]   \n",
       "21  [skills, skills medicine, medicine sub, xx exh...   \n",
       "22  [general hospital, francisco general, general,...   \n",
       "23  [zuckerberg san, zuckerberg, patients, medicin...   \n",
       "24         [alex, able, neurological, disc, patients]   \n",
       "25  [patients, plan, hospital, professional, zucke...   \n",
       "26   [corinne, factors, patient, provided, efficient]   \n",
       "27         [rexxent, noted, reasoning, month, skills]   \n",
       "28  [matt, matt excellent, patients matt, patient,...   \n",
       "29            [xx, care, rotation, patients, patient]   \n",
       "30  [day, patient, xx, outstanding job, intern act...   \n",
       "31                [xx, patients, team, well, patient]   \n",
       "32              [uche, nikko, clinical, skills, good]   \n",
       "33  [advanced, clerkship xx, clerkship, showed, fa...   \n",
       "34    [patients, quickly, notes, care, physical exam]   \n",
       "35                  [care, plans xx, team, xx, plans]   \n",
       "36  [plan, differential diagnosis, diagnosis, disc...   \n",
       "37  [fibrillation, atrial, atrial fibrillation, he...   \n",
       "38               [team, xx, patients, tasks, patient]   \n",
       "39         [patients, care, xx, consistently, making]   \n",
       "40             [laurence, eager, always, xx, patient]   \n",
       "41       [erika, patients, member team, hunger, team]   \n",
       "42             [rexxent, xx, patients, complex, care]   \n",
       "43           [xx highly, xx, patients, complex, role]   \n",
       "44  [xx, xx outstanding, discharging, ent topics, ...   \n",
       "45       [discharge, complex, skills, data, thorough]   \n",
       "46               [tasks, xx, issues, displayed, team]   \n",
       "47  [work, medicine advanced, advanced inpatient, ...   \n",
       "48        [patients, multiple, complex, towards, one]   \n",
       "49  [dom, information, xx functioned, outstanding,...   \n",
       "50  [centered, demonstrated, demonstrated excellen...   \n",
       "51        [care, discharge, plans, arrange, patients]   \n",
       "52            [cancer, expertly, patient, xx, advice]   \n",
       "53  [outstanding, clinical, professional, skills, ...   \n",
       "54  [intern, xx consistently, operated, intern act...   \n",
       "55  [reasoning excellent, organized, became organi...   \n",
       "56  [student, student doctor, doctor xx, doctor, l...   \n",
       "57              [joy, service, week, serve, although]   \n",
       "58           [care, also, nicely, responded well, xx]   \n",
       "\n",
       "                                  Representative_Docs  \n",
       "0   [XX functioned at the level of an intern putti...  \n",
       "1   [On her Family Medicine Advanced Inpatient Cle...  \n",
       "2   [XX was outstanding in his care of patients on...  \n",
       "3   [XX functioned at the level of an intern durin...  \n",
       "4   [XX took on management of very medically and s...  \n",
       "5   [Student doctor XX was a welcome and valued ad...  \n",
       "6   [XX displayed excellent fund of knowledge/clin...  \n",
       "7   [XX exhibited outstanding knowledge and reason...  \n",
       "8   [XX  mastered the art of staying structured or...  \n",
       "9   [Joe did a great job on the medicine acting in...  \n",
       "10  [XX displayed very good fund of knowledge/prob...  \n",
       "11  [XX displayed excellent fund of knowledge/prob...  \n",
       "12  [From XX's first day of her sub-internship she...  \n",
       "13  [XXta did a fantastic job of clinical care and...  \n",
       "14  [XX delivered thorough presentations clearly i...  \n",
       "15  [During his medicine subinternship, XX worked ...  \n",
       "16  [XX (Jackie) took a compassionate approach to ...  \n",
       "17  [Lizzy's history taking and patient education ...  \n",
       "18  [XX played an important role in the case of hi...  \n",
       "19  [XX communicated with patients in a wonderful ...  \n",
       "20  [XX displayed outstanding fund of knowledge/pr...  \n",
       "21  [XX exhibited excellent knowledge and reasonin...  \n",
       "22  [XX is incredibly engaged, mature, and from da...  \n",
       "23  [The medical histories taken by XX during her ...  \n",
       "24  [XX demonstrated excellent clinical intuition ...  \n",
       "25  [XX knew exactly what was going on with his pa...  \n",
       "26  [In this medicine acting internship XX provide...  \n",
       "27  [XX was a reliable team member during her medi...  \n",
       "28  [XX exhibited outstanding knowledge and reason...  \n",
       "29  [XX played an important role in the care of he...  \n",
       "30  [XX functioned at the level of an intern durin...  \n",
       "31  [XX displayed a growth mindset during his Acti...  \n",
       "32  [XX displayed very good fund of knowledge/clin...  \n",
       "33  [On his Family Medicine Advanced Inpatient Cle...  \n",
       "34  [XX took thoughtful and careful histories with...  \n",
       "35  [XX's work was equivalent to an intern's durin...  \n",
       "36  [XX exhibited excellent knowledge and reasonin...  \n",
       "37  [On his Family Medicine Advanced Inpatient Cle...  \n",
       "38  [XX operated at the level of an intern through...  \n",
       "39  [XX was a real star in ter of his patient care...  \n",
       "40  [XX gave outstanding clinical presentations du...  \n",
       "41  [XX consistently knew the most pertinent exam ...  \n",
       "42  [XX displayed wonderful patient care and profe...  \n",
       "43  [XX exhibited outstanding knowledge and reason...  \n",
       "44  [XX delivered outstanding oral presentations t...  \n",
       "45  [XX outstanding excellent knowledge and reason...  \n",
       "46  [On her medicine acting internship XX conducte...  \n",
       "47  [XX did outstanding work on his Family Medicin...  \n",
       "48  [XX did a phenomenal job using his history tak...  \n",
       "49  [XX functioned at the level of an intern durin...  \n",
       "50  [XX took advanced care of her patients on her ...  \n",
       "51  [XX did an outstanding job caring for her pati...  \n",
       "52  [XX functioned at the level of an intern durin...  \n",
       "53  [XX exhibited excellent knowledge and reasonin...  \n",
       "54  [XX functioned at the level of an intern durin...  \n",
       "55  [XX exhibited excellent knowledge and reasonin...  \n",
       "56  [On her Family Medicine Advanced Inpatient Cle...  \n",
       "57  [XX was a true \"acting intern\" on this busy se...  \n",
       "58  [XX was an integral member of the team- he was...  "
      ]
     },
     "execution_count": 63,
     "metadata": {},
     "output_type": "execute_result"
    }
   ],
   "source": [
    "UIM_topic_model = topic_model\n",
    "UIM_topic_model.get_topic_info()"
   ]
  },
  {
   "cell_type": "code",
   "execution_count": 64,
   "id": "f490dca4",
   "metadata": {},
   "outputs": [
    {
     "data": {
      "application/vnd.plotly.v1+json": {
       "config": {
        "plotlyServerURL": "https://plot.ly"
       },
       "data": [
        {
         "marker": {
          "color": "#D55E00"
         },
         "orientation": "h",
         "type": "bar",
         "x": [
          0.01412156912284822,
          0.01412156912284822,
          0.015813335737648305,
          0.018116376458340057,
          0.018397270927658402
         ],
         "xaxis": "x",
         "y": [
          "inpatient clerkship  ",
          "advanced inpatient  ",
          "family  ",
          "family medicine  ",
          "inpatient  "
         ],
         "yaxis": "y"
        },
        {
         "marker": {
          "color": "#0072B2"
         },
         "orientation": "h",
         "type": "bar",
         "x": [
          0.01001525884217273,
          0.010160497203833701,
          0.010364070017347562,
          0.011579343909619512,
          0.014944137594122333
         ],
         "xaxis": "x2",
         "y": [
          "firo  ",
          "team  ",
          "care  ",
          "patients  ",
          "fred  "
         ],
         "yaxis": "y2"
        },
        {
         "marker": {
          "color": "#CC79A7"
         },
         "orientation": "h",
         "type": "bar",
         "x": [
          0.012075898203535204,
          0.013224571699851426,
          0.013259370087516735,
          0.014281101826990005,
          0.016329523555820832
         ],
         "xaxis": "x3",
         "y": [
          "functioned  ",
          "xx functioned  ",
          "functioned level  ",
          "intern  ",
          "level  "
         ],
         "yaxis": "y3"
        },
        {
         "marker": {
          "color": "#E69F00"
         },
         "orientation": "h",
         "type": "bar",
         "x": [
          0.010867904791838263,
          0.010879922158525141,
          0.013097033297046003,
          0.014026703430943782,
          0.014048175416616428
         ],
         "xaxis": "x4",
         "y": [
          "plans  ",
          "care  ",
          "patients  ",
          "patient  ",
          "xx  "
         ],
         "yaxis": "y4"
        },
        {
         "marker": {
          "color": "#56B4E9"
         },
         "orientation": "h",
         "type": "bar",
         "x": [
          0.016303217865712167,
          0.019130031890808235,
          0.021864061138941848,
          0.022377793347578865,
          0.032624576795195676
         ],
         "xaxis": "x5",
         "y": [
          "medical  ",
          "doctor  ",
          "doctor xx  ",
          "student doctor  ",
          "student  "
         ],
         "yaxis": "y5"
        },
        {
         "marker": {
          "color": "#009E73"
         },
         "orientation": "h",
         "type": "bar",
         "x": [
          0.01294775082541284,
          0.013408220924065361,
          0.013455169922664309,
          0.013573126651837443,
          0.013894494521803575
         ],
         "xaxis": "x6",
         "y": [
          "manner  ",
          "outstanding  ",
          "patients  ",
          "jon  ",
          "xx displayed  "
         ],
         "yaxis": "y6"
        },
        {
         "marker": {
          "color": "#F0E442"
         },
         "orientation": "h",
         "type": "bar",
         "x": [
          0.023619611265819962,
          0.023749952873661318,
          0.02426271369848383,
          0.024299095203273138,
          0.024299095203273138
         ],
         "xaxis": "x7",
         "y": [
          "knowledge reasoning  ",
          "xx exhibited  ",
          "skills  ",
          "skills medicine  ",
          "medicine sub  "
         ],
         "yaxis": "y7"
        },
        {
         "marker": {
          "color": "#D55E00"
         },
         "orientation": "h",
         "type": "bar",
         "x": [
          0.011901217416666731,
          0.012743205380167079,
          0.012743205380167079,
          0.012743205380167079,
          0.013104254084671196
         ],
         "xaxis": "x8",
         "y": [
          "general hospital  ",
          "san francisco  ",
          "san  ",
          "francisco  ",
          "patients  "
         ],
         "yaxis": "y8"
        }
       ],
       "layout": {
        "annotations": [
         {
          "font": {
           "size": 16
          },
          "showarrow": false,
          "text": "Topic 0",
          "x": 0.0875,
          "xanchor": "center",
          "xref": "paper",
          "y": 1,
          "yanchor": "bottom",
          "yref": "paper"
         },
         {
          "font": {
           "size": 16
          },
          "showarrow": false,
          "text": "Topic 1",
          "x": 0.36250000000000004,
          "xanchor": "center",
          "xref": "paper",
          "y": 1,
          "yanchor": "bottom",
          "yref": "paper"
         },
         {
          "font": {
           "size": 16
          },
          "showarrow": false,
          "text": "Topic 2",
          "x": 0.6375000000000001,
          "xanchor": "center",
          "xref": "paper",
          "y": 1,
          "yanchor": "bottom",
          "yref": "paper"
         },
         {
          "font": {
           "size": 16
          },
          "showarrow": false,
          "text": "Topic 3",
          "x": 0.9125,
          "xanchor": "center",
          "xref": "paper",
          "y": 1,
          "yanchor": "bottom",
          "yref": "paper"
         },
         {
          "font": {
           "size": 16
          },
          "showarrow": false,
          "text": "Topic 4",
          "x": 0.0875,
          "xanchor": "center",
          "xref": "paper",
          "y": 0.4,
          "yanchor": "bottom",
          "yref": "paper"
         },
         {
          "font": {
           "size": 16
          },
          "showarrow": false,
          "text": "Topic 5",
          "x": 0.36250000000000004,
          "xanchor": "center",
          "xref": "paper",
          "y": 0.4,
          "yanchor": "bottom",
          "yref": "paper"
         },
         {
          "font": {
           "size": 16
          },
          "showarrow": false,
          "text": "Topic 6",
          "x": 0.6375000000000001,
          "xanchor": "center",
          "xref": "paper",
          "y": 0.4,
          "yanchor": "bottom",
          "yref": "paper"
         },
         {
          "font": {
           "size": 16
          },
          "showarrow": false,
          "text": "Topic 7",
          "x": 0.9125,
          "xanchor": "center",
          "xref": "paper",
          "y": 0.4,
          "yanchor": "bottom",
          "yref": "paper"
         }
        ],
        "height": 500,
        "hoverlabel": {
         "bgcolor": "white",
         "font": {
          "family": "Rockwell",
          "size": 16
         }
        },
        "showlegend": false,
        "template": {
         "data": {
          "bar": [
           {
            "error_x": {
             "color": "#2a3f5f"
            },
            "error_y": {
             "color": "#2a3f5f"
            },
            "marker": {
             "line": {
              "color": "white",
              "width": 0.5
             },
             "pattern": {
              "fillmode": "overlay",
              "size": 10,
              "solidity": 0.2
             }
            },
            "type": "bar"
           }
          ],
          "barpolar": [
           {
            "marker": {
             "line": {
              "color": "white",
              "width": 0.5
             },
             "pattern": {
              "fillmode": "overlay",
              "size": 10,
              "solidity": 0.2
             }
            },
            "type": "barpolar"
           }
          ],
          "carpet": [
           {
            "aaxis": {
             "endlinecolor": "#2a3f5f",
             "gridcolor": "#C8D4E3",
             "linecolor": "#C8D4E3",
             "minorgridcolor": "#C8D4E3",
             "startlinecolor": "#2a3f5f"
            },
            "baxis": {
             "endlinecolor": "#2a3f5f",
             "gridcolor": "#C8D4E3",
             "linecolor": "#C8D4E3",
             "minorgridcolor": "#C8D4E3",
             "startlinecolor": "#2a3f5f"
            },
            "type": "carpet"
           }
          ],
          "choropleth": [
           {
            "colorbar": {
             "outlinewidth": 0,
             "ticks": ""
            },
            "type": "choropleth"
           }
          ],
          "contour": [
           {
            "colorbar": {
             "outlinewidth": 0,
             "ticks": ""
            },
            "colorscale": [
             [
              0,
              "#0d0887"
             ],
             [
              0.1111111111111111,
              "#46039f"
             ],
             [
              0.2222222222222222,
              "#7201a8"
             ],
             [
              0.3333333333333333,
              "#9c179e"
             ],
             [
              0.4444444444444444,
              "#bd3786"
             ],
             [
              0.5555555555555556,
              "#d8576b"
             ],
             [
              0.6666666666666666,
              "#ed7953"
             ],
             [
              0.7777777777777778,
              "#fb9f3a"
             ],
             [
              0.8888888888888888,
              "#fdca26"
             ],
             [
              1,
              "#f0f921"
             ]
            ],
            "type": "contour"
           }
          ],
          "contourcarpet": [
           {
            "colorbar": {
             "outlinewidth": 0,
             "ticks": ""
            },
            "type": "contourcarpet"
           }
          ],
          "heatmap": [
           {
            "colorbar": {
             "outlinewidth": 0,
             "ticks": ""
            },
            "colorscale": [
             [
              0,
              "#0d0887"
             ],
             [
              0.1111111111111111,
              "#46039f"
             ],
             [
              0.2222222222222222,
              "#7201a8"
             ],
             [
              0.3333333333333333,
              "#9c179e"
             ],
             [
              0.4444444444444444,
              "#bd3786"
             ],
             [
              0.5555555555555556,
              "#d8576b"
             ],
             [
              0.6666666666666666,
              "#ed7953"
             ],
             [
              0.7777777777777778,
              "#fb9f3a"
             ],
             [
              0.8888888888888888,
              "#fdca26"
             ],
             [
              1,
              "#f0f921"
             ]
            ],
            "type": "heatmap"
           }
          ],
          "heatmapgl": [
           {
            "colorbar": {
             "outlinewidth": 0,
             "ticks": ""
            },
            "colorscale": [
             [
              0,
              "#0d0887"
             ],
             [
              0.1111111111111111,
              "#46039f"
             ],
             [
              0.2222222222222222,
              "#7201a8"
             ],
             [
              0.3333333333333333,
              "#9c179e"
             ],
             [
              0.4444444444444444,
              "#bd3786"
             ],
             [
              0.5555555555555556,
              "#d8576b"
             ],
             [
              0.6666666666666666,
              "#ed7953"
             ],
             [
              0.7777777777777778,
              "#fb9f3a"
             ],
             [
              0.8888888888888888,
              "#fdca26"
             ],
             [
              1,
              "#f0f921"
             ]
            ],
            "type": "heatmapgl"
           }
          ],
          "histogram": [
           {
            "marker": {
             "pattern": {
              "fillmode": "overlay",
              "size": 10,
              "solidity": 0.2
             }
            },
            "type": "histogram"
           }
          ],
          "histogram2d": [
           {
            "colorbar": {
             "outlinewidth": 0,
             "ticks": ""
            },
            "colorscale": [
             [
              0,
              "#0d0887"
             ],
             [
              0.1111111111111111,
              "#46039f"
             ],
             [
              0.2222222222222222,
              "#7201a8"
             ],
             [
              0.3333333333333333,
              "#9c179e"
             ],
             [
              0.4444444444444444,
              "#bd3786"
             ],
             [
              0.5555555555555556,
              "#d8576b"
             ],
             [
              0.6666666666666666,
              "#ed7953"
             ],
             [
              0.7777777777777778,
              "#fb9f3a"
             ],
             [
              0.8888888888888888,
              "#fdca26"
             ],
             [
              1,
              "#f0f921"
             ]
            ],
            "type": "histogram2d"
           }
          ],
          "histogram2dcontour": [
           {
            "colorbar": {
             "outlinewidth": 0,
             "ticks": ""
            },
            "colorscale": [
             [
              0,
              "#0d0887"
             ],
             [
              0.1111111111111111,
              "#46039f"
             ],
             [
              0.2222222222222222,
              "#7201a8"
             ],
             [
              0.3333333333333333,
              "#9c179e"
             ],
             [
              0.4444444444444444,
              "#bd3786"
             ],
             [
              0.5555555555555556,
              "#d8576b"
             ],
             [
              0.6666666666666666,
              "#ed7953"
             ],
             [
              0.7777777777777778,
              "#fb9f3a"
             ],
             [
              0.8888888888888888,
              "#fdca26"
             ],
             [
              1,
              "#f0f921"
             ]
            ],
            "type": "histogram2dcontour"
           }
          ],
          "mesh3d": [
           {
            "colorbar": {
             "outlinewidth": 0,
             "ticks": ""
            },
            "type": "mesh3d"
           }
          ],
          "parcoords": [
           {
            "line": {
             "colorbar": {
              "outlinewidth": 0,
              "ticks": ""
             }
            },
            "type": "parcoords"
           }
          ],
          "pie": [
           {
            "automargin": true,
            "type": "pie"
           }
          ],
          "scatter": [
           {
            "fillpattern": {
             "fillmode": "overlay",
             "size": 10,
             "solidity": 0.2
            },
            "type": "scatter"
           }
          ],
          "scatter3d": [
           {
            "line": {
             "colorbar": {
              "outlinewidth": 0,
              "ticks": ""
             }
            },
            "marker": {
             "colorbar": {
              "outlinewidth": 0,
              "ticks": ""
             }
            },
            "type": "scatter3d"
           }
          ],
          "scattercarpet": [
           {
            "marker": {
             "colorbar": {
              "outlinewidth": 0,
              "ticks": ""
             }
            },
            "type": "scattercarpet"
           }
          ],
          "scattergeo": [
           {
            "marker": {
             "colorbar": {
              "outlinewidth": 0,
              "ticks": ""
             }
            },
            "type": "scattergeo"
           }
          ],
          "scattergl": [
           {
            "marker": {
             "colorbar": {
              "outlinewidth": 0,
              "ticks": ""
             }
            },
            "type": "scattergl"
           }
          ],
          "scattermapbox": [
           {
            "marker": {
             "colorbar": {
              "outlinewidth": 0,
              "ticks": ""
             }
            },
            "type": "scattermapbox"
           }
          ],
          "scatterpolar": [
           {
            "marker": {
             "colorbar": {
              "outlinewidth": 0,
              "ticks": ""
             }
            },
            "type": "scatterpolar"
           }
          ],
          "scatterpolargl": [
           {
            "marker": {
             "colorbar": {
              "outlinewidth": 0,
              "ticks": ""
             }
            },
            "type": "scatterpolargl"
           }
          ],
          "scatterternary": [
           {
            "marker": {
             "colorbar": {
              "outlinewidth": 0,
              "ticks": ""
             }
            },
            "type": "scatterternary"
           }
          ],
          "surface": [
           {
            "colorbar": {
             "outlinewidth": 0,
             "ticks": ""
            },
            "colorscale": [
             [
              0,
              "#0d0887"
             ],
             [
              0.1111111111111111,
              "#46039f"
             ],
             [
              0.2222222222222222,
              "#7201a8"
             ],
             [
              0.3333333333333333,
              "#9c179e"
             ],
             [
              0.4444444444444444,
              "#bd3786"
             ],
             [
              0.5555555555555556,
              "#d8576b"
             ],
             [
              0.6666666666666666,
              "#ed7953"
             ],
             [
              0.7777777777777778,
              "#fb9f3a"
             ],
             [
              0.8888888888888888,
              "#fdca26"
             ],
             [
              1,
              "#f0f921"
             ]
            ],
            "type": "surface"
           }
          ],
          "table": [
           {
            "cells": {
             "fill": {
              "color": "#EBF0F8"
             },
             "line": {
              "color": "white"
             }
            },
            "header": {
             "fill": {
              "color": "#C8D4E3"
             },
             "line": {
              "color": "white"
             }
            },
            "type": "table"
           }
          ]
         },
         "layout": {
          "annotationdefaults": {
           "arrowcolor": "#2a3f5f",
           "arrowhead": 0,
           "arrowwidth": 1
          },
          "autotypenumbers": "strict",
          "coloraxis": {
           "colorbar": {
            "outlinewidth": 0,
            "ticks": ""
           }
          },
          "colorscale": {
           "diverging": [
            [
             0,
             "#8e0152"
            ],
            [
             0.1,
             "#c51b7d"
            ],
            [
             0.2,
             "#de77ae"
            ],
            [
             0.3,
             "#f1b6da"
            ],
            [
             0.4,
             "#fde0ef"
            ],
            [
             0.5,
             "#f7f7f7"
            ],
            [
             0.6,
             "#e6f5d0"
            ],
            [
             0.7,
             "#b8e186"
            ],
            [
             0.8,
             "#7fbc41"
            ],
            [
             0.9,
             "#4d9221"
            ],
            [
             1,
             "#276419"
            ]
           ],
           "sequential": [
            [
             0,
             "#0d0887"
            ],
            [
             0.1111111111111111,
             "#46039f"
            ],
            [
             0.2222222222222222,
             "#7201a8"
            ],
            [
             0.3333333333333333,
             "#9c179e"
            ],
            [
             0.4444444444444444,
             "#bd3786"
            ],
            [
             0.5555555555555556,
             "#d8576b"
            ],
            [
             0.6666666666666666,
             "#ed7953"
            ],
            [
             0.7777777777777778,
             "#fb9f3a"
            ],
            [
             0.8888888888888888,
             "#fdca26"
            ],
            [
             1,
             "#f0f921"
            ]
           ],
           "sequentialminus": [
            [
             0,
             "#0d0887"
            ],
            [
             0.1111111111111111,
             "#46039f"
            ],
            [
             0.2222222222222222,
             "#7201a8"
            ],
            [
             0.3333333333333333,
             "#9c179e"
            ],
            [
             0.4444444444444444,
             "#bd3786"
            ],
            [
             0.5555555555555556,
             "#d8576b"
            ],
            [
             0.6666666666666666,
             "#ed7953"
            ],
            [
             0.7777777777777778,
             "#fb9f3a"
            ],
            [
             0.8888888888888888,
             "#fdca26"
            ],
            [
             1,
             "#f0f921"
            ]
           ]
          },
          "colorway": [
           "#636efa",
           "#EF553B",
           "#00cc96",
           "#ab63fa",
           "#FFA15A",
           "#19d3f3",
           "#FF6692",
           "#B6E880",
           "#FF97FF",
           "#FECB52"
          ],
          "font": {
           "color": "#2a3f5f"
          },
          "geo": {
           "bgcolor": "white",
           "lakecolor": "white",
           "landcolor": "white",
           "showlakes": true,
           "showland": true,
           "subunitcolor": "#C8D4E3"
          },
          "hoverlabel": {
           "align": "left"
          },
          "hovermode": "closest",
          "mapbox": {
           "style": "light"
          },
          "paper_bgcolor": "white",
          "plot_bgcolor": "white",
          "polar": {
           "angularaxis": {
            "gridcolor": "#EBF0F8",
            "linecolor": "#EBF0F8",
            "ticks": ""
           },
           "bgcolor": "white",
           "radialaxis": {
            "gridcolor": "#EBF0F8",
            "linecolor": "#EBF0F8",
            "ticks": ""
           }
          },
          "scene": {
           "xaxis": {
            "backgroundcolor": "white",
            "gridcolor": "#DFE8F3",
            "gridwidth": 2,
            "linecolor": "#EBF0F8",
            "showbackground": true,
            "ticks": "",
            "zerolinecolor": "#EBF0F8"
           },
           "yaxis": {
            "backgroundcolor": "white",
            "gridcolor": "#DFE8F3",
            "gridwidth": 2,
            "linecolor": "#EBF0F8",
            "showbackground": true,
            "ticks": "",
            "zerolinecolor": "#EBF0F8"
           },
           "zaxis": {
            "backgroundcolor": "white",
            "gridcolor": "#DFE8F3",
            "gridwidth": 2,
            "linecolor": "#EBF0F8",
            "showbackground": true,
            "ticks": "",
            "zerolinecolor": "#EBF0F8"
           }
          },
          "shapedefaults": {
           "line": {
            "color": "#2a3f5f"
           }
          },
          "ternary": {
           "aaxis": {
            "gridcolor": "#DFE8F3",
            "linecolor": "#A2B1C6",
            "ticks": ""
           },
           "baxis": {
            "gridcolor": "#DFE8F3",
            "linecolor": "#A2B1C6",
            "ticks": ""
           },
           "bgcolor": "white",
           "caxis": {
            "gridcolor": "#DFE8F3",
            "linecolor": "#A2B1C6",
            "ticks": ""
           }
          },
          "title": {
           "x": 0.05
          },
          "xaxis": {
           "automargin": true,
           "gridcolor": "#EBF0F8",
           "linecolor": "#EBF0F8",
           "ticks": "",
           "title": {
            "standoff": 15
           },
           "zerolinecolor": "#EBF0F8",
           "zerolinewidth": 2
          },
          "yaxis": {
           "automargin": true,
           "gridcolor": "#EBF0F8",
           "linecolor": "#EBF0F8",
           "ticks": "",
           "title": {
            "standoff": 15
           },
           "zerolinecolor": "#EBF0F8",
           "zerolinewidth": 2
          }
         }
        },
        "title": {
         "font": {
          "color": "Black",
          "size": 22
         },
         "text": "Topic Word Scores",
         "x": 0.5,
         "xanchor": "center",
         "yanchor": "top"
        },
        "width": 1000,
        "xaxis": {
         "anchor": "y",
         "domain": [
          0,
          0.175
         ],
         "showgrid": true
        },
        "xaxis2": {
         "anchor": "y2",
         "domain": [
          0.275,
          0.45
         ],
         "showgrid": true
        },
        "xaxis3": {
         "anchor": "y3",
         "domain": [
          0.55,
          0.7250000000000001
         ],
         "showgrid": true
        },
        "xaxis4": {
         "anchor": "y4",
         "domain": [
          0.825,
          1
         ],
         "showgrid": true
        },
        "xaxis5": {
         "anchor": "y5",
         "domain": [
          0,
          0.175
         ],
         "showgrid": true
        },
        "xaxis6": {
         "anchor": "y6",
         "domain": [
          0.275,
          0.45
         ],
         "showgrid": true
        },
        "xaxis7": {
         "anchor": "y7",
         "domain": [
          0.55,
          0.7250000000000001
         ],
         "showgrid": true
        },
        "xaxis8": {
         "anchor": "y8",
         "domain": [
          0.825,
          1
         ],
         "showgrid": true
        },
        "yaxis": {
         "anchor": "x",
         "domain": [
          0.6000000000000001,
          1
         ],
         "showgrid": true
        },
        "yaxis2": {
         "anchor": "x2",
         "domain": [
          0.6000000000000001,
          1
         ],
         "showgrid": true
        },
        "yaxis3": {
         "anchor": "x3",
         "domain": [
          0.6000000000000001,
          1
         ],
         "showgrid": true
        },
        "yaxis4": {
         "anchor": "x4",
         "domain": [
          0.6000000000000001,
          1
         ],
         "showgrid": true
        },
        "yaxis5": {
         "anchor": "x5",
         "domain": [
          0,
          0.4
         ],
         "showgrid": true
        },
        "yaxis6": {
         "anchor": "x6",
         "domain": [
          0,
          0.4
         ],
         "showgrid": true
        },
        "yaxis7": {
         "anchor": "x7",
         "domain": [
          0,
          0.4
         ],
         "showgrid": true
        },
        "yaxis8": {
         "anchor": "x8",
         "domain": [
          0,
          0.4
         ],
         "showgrid": true
        }
       }
      },
      "text/html": [
       "<div>                            <div id=\"d3d0cd79-4a76-4310-b53b-0d3ba6352a0b\" class=\"plotly-graph-div\" style=\"height:500px; width:1000px;\"></div>            <script type=\"text/javascript\">                require([\"plotly\"], function(Plotly) {                    window.PLOTLYENV=window.PLOTLYENV || {};                                    if (document.getElementById(\"d3d0cd79-4a76-4310-b53b-0d3ba6352a0b\")) {                    Plotly.newPlot(                        \"d3d0cd79-4a76-4310-b53b-0d3ba6352a0b\",                        [{\"marker\":{\"color\":\"#D55E00\"},\"orientation\":\"h\",\"x\":[0.01412156912284822,0.01412156912284822,0.015813335737648305,0.018116376458340057,0.018397270927658402],\"y\":[\"inpatient clerkship  \",\"advanced inpatient  \",\"family  \",\"family medicine  \",\"inpatient  \"],\"type\":\"bar\",\"xaxis\":\"x\",\"yaxis\":\"y\"},{\"marker\":{\"color\":\"#0072B2\"},\"orientation\":\"h\",\"x\":[0.01001525884217273,0.010160497203833701,0.010364070017347562,0.011579343909619512,0.014944137594122333],\"y\":[\"firo  \",\"team  \",\"care  \",\"patients  \",\"fred  \"],\"type\":\"bar\",\"xaxis\":\"x2\",\"yaxis\":\"y2\"},{\"marker\":{\"color\":\"#CC79A7\"},\"orientation\":\"h\",\"x\":[0.012075898203535204,0.013224571699851426,0.013259370087516735,0.014281101826990005,0.016329523555820832],\"y\":[\"functioned  \",\"xx functioned  \",\"functioned level  \",\"intern  \",\"level  \"],\"type\":\"bar\",\"xaxis\":\"x3\",\"yaxis\":\"y3\"},{\"marker\":{\"color\":\"#E69F00\"},\"orientation\":\"h\",\"x\":[0.010867904791838263,0.010879922158525141,0.013097033297046003,0.014026703430943782,0.014048175416616428],\"y\":[\"plans  \",\"care  \",\"patients  \",\"patient  \",\"xx  \"],\"type\":\"bar\",\"xaxis\":\"x4\",\"yaxis\":\"y4\"},{\"marker\":{\"color\":\"#56B4E9\"},\"orientation\":\"h\",\"x\":[0.016303217865712167,0.019130031890808235,0.021864061138941848,0.022377793347578865,0.032624576795195676],\"y\":[\"medical  \",\"doctor  \",\"doctor xx  \",\"student doctor  \",\"student  \"],\"type\":\"bar\",\"xaxis\":\"x5\",\"yaxis\":\"y5\"},{\"marker\":{\"color\":\"#009E73\"},\"orientation\":\"h\",\"x\":[0.01294775082541284,0.013408220924065361,0.013455169922664309,0.013573126651837443,0.013894494521803575],\"y\":[\"manner  \",\"outstanding  \",\"patients  \",\"jon  \",\"xx displayed  \"],\"type\":\"bar\",\"xaxis\":\"x6\",\"yaxis\":\"y6\"},{\"marker\":{\"color\":\"#F0E442\"},\"orientation\":\"h\",\"x\":[0.023619611265819962,0.023749952873661318,0.02426271369848383,0.024299095203273138,0.024299095203273138],\"y\":[\"knowledge reasoning  \",\"xx exhibited  \",\"skills  \",\"skills medicine  \",\"medicine sub  \"],\"type\":\"bar\",\"xaxis\":\"x7\",\"yaxis\":\"y7\"},{\"marker\":{\"color\":\"#D55E00\"},\"orientation\":\"h\",\"x\":[0.011901217416666731,0.012743205380167079,0.012743205380167079,0.012743205380167079,0.013104254084671196],\"y\":[\"general hospital  \",\"san francisco  \",\"san  \",\"francisco  \",\"patients  \"],\"type\":\"bar\",\"xaxis\":\"x8\",\"yaxis\":\"y8\"}],                        {\"template\":{\"data\":{\"barpolar\":[{\"marker\":{\"line\":{\"color\":\"white\",\"width\":0.5},\"pattern\":{\"fillmode\":\"overlay\",\"size\":10,\"solidity\":0.2}},\"type\":\"barpolar\"}],\"bar\":[{\"error_x\":{\"color\":\"#2a3f5f\"},\"error_y\":{\"color\":\"#2a3f5f\"},\"marker\":{\"line\":{\"color\":\"white\",\"width\":0.5},\"pattern\":{\"fillmode\":\"overlay\",\"size\":10,\"solidity\":0.2}},\"type\":\"bar\"}],\"carpet\":[{\"aaxis\":{\"endlinecolor\":\"#2a3f5f\",\"gridcolor\":\"#C8D4E3\",\"linecolor\":\"#C8D4E3\",\"minorgridcolor\":\"#C8D4E3\",\"startlinecolor\":\"#2a3f5f\"},\"baxis\":{\"endlinecolor\":\"#2a3f5f\",\"gridcolor\":\"#C8D4E3\",\"linecolor\":\"#C8D4E3\",\"minorgridcolor\":\"#C8D4E3\",\"startlinecolor\":\"#2a3f5f\"},\"type\":\"carpet\"}],\"choropleth\":[{\"colorbar\":{\"outlinewidth\":0,\"ticks\":\"\"},\"type\":\"choropleth\"}],\"contourcarpet\":[{\"colorbar\":{\"outlinewidth\":0,\"ticks\":\"\"},\"type\":\"contourcarpet\"}],\"contour\":[{\"colorbar\":{\"outlinewidth\":0,\"ticks\":\"\"},\"colorscale\":[[0.0,\"#0d0887\"],[0.1111111111111111,\"#46039f\"],[0.2222222222222222,\"#7201a8\"],[0.3333333333333333,\"#9c179e\"],[0.4444444444444444,\"#bd3786\"],[0.5555555555555556,\"#d8576b\"],[0.6666666666666666,\"#ed7953\"],[0.7777777777777778,\"#fb9f3a\"],[0.8888888888888888,\"#fdca26\"],[1.0,\"#f0f921\"]],\"type\":\"contour\"}],\"heatmapgl\":[{\"colorbar\":{\"outlinewidth\":0,\"ticks\":\"\"},\"colorscale\":[[0.0,\"#0d0887\"],[0.1111111111111111,\"#46039f\"],[0.2222222222222222,\"#7201a8\"],[0.3333333333333333,\"#9c179e\"],[0.4444444444444444,\"#bd3786\"],[0.5555555555555556,\"#d8576b\"],[0.6666666666666666,\"#ed7953\"],[0.7777777777777778,\"#fb9f3a\"],[0.8888888888888888,\"#fdca26\"],[1.0,\"#f0f921\"]],\"type\":\"heatmapgl\"}],\"heatmap\":[{\"colorbar\":{\"outlinewidth\":0,\"ticks\":\"\"},\"colorscale\":[[0.0,\"#0d0887\"],[0.1111111111111111,\"#46039f\"],[0.2222222222222222,\"#7201a8\"],[0.3333333333333333,\"#9c179e\"],[0.4444444444444444,\"#bd3786\"],[0.5555555555555556,\"#d8576b\"],[0.6666666666666666,\"#ed7953\"],[0.7777777777777778,\"#fb9f3a\"],[0.8888888888888888,\"#fdca26\"],[1.0,\"#f0f921\"]],\"type\":\"heatmap\"}],\"histogram2dcontour\":[{\"colorbar\":{\"outlinewidth\":0,\"ticks\":\"\"},\"colorscale\":[[0.0,\"#0d0887\"],[0.1111111111111111,\"#46039f\"],[0.2222222222222222,\"#7201a8\"],[0.3333333333333333,\"#9c179e\"],[0.4444444444444444,\"#bd3786\"],[0.5555555555555556,\"#d8576b\"],[0.6666666666666666,\"#ed7953\"],[0.7777777777777778,\"#fb9f3a\"],[0.8888888888888888,\"#fdca26\"],[1.0,\"#f0f921\"]],\"type\":\"histogram2dcontour\"}],\"histogram2d\":[{\"colorbar\":{\"outlinewidth\":0,\"ticks\":\"\"},\"colorscale\":[[0.0,\"#0d0887\"],[0.1111111111111111,\"#46039f\"],[0.2222222222222222,\"#7201a8\"],[0.3333333333333333,\"#9c179e\"],[0.4444444444444444,\"#bd3786\"],[0.5555555555555556,\"#d8576b\"],[0.6666666666666666,\"#ed7953\"],[0.7777777777777778,\"#fb9f3a\"],[0.8888888888888888,\"#fdca26\"],[1.0,\"#f0f921\"]],\"type\":\"histogram2d\"}],\"histogram\":[{\"marker\":{\"pattern\":{\"fillmode\":\"overlay\",\"size\":10,\"solidity\":0.2}},\"type\":\"histogram\"}],\"mesh3d\":[{\"colorbar\":{\"outlinewidth\":0,\"ticks\":\"\"},\"type\":\"mesh3d\"}],\"parcoords\":[{\"line\":{\"colorbar\":{\"outlinewidth\":0,\"ticks\":\"\"}},\"type\":\"parcoords\"}],\"pie\":[{\"automargin\":true,\"type\":\"pie\"}],\"scatter3d\":[{\"line\":{\"colorbar\":{\"outlinewidth\":0,\"ticks\":\"\"}},\"marker\":{\"colorbar\":{\"outlinewidth\":0,\"ticks\":\"\"}},\"type\":\"scatter3d\"}],\"scattercarpet\":[{\"marker\":{\"colorbar\":{\"outlinewidth\":0,\"ticks\":\"\"}},\"type\":\"scattercarpet\"}],\"scattergeo\":[{\"marker\":{\"colorbar\":{\"outlinewidth\":0,\"ticks\":\"\"}},\"type\":\"scattergeo\"}],\"scattergl\":[{\"marker\":{\"colorbar\":{\"outlinewidth\":0,\"ticks\":\"\"}},\"type\":\"scattergl\"}],\"scattermapbox\":[{\"marker\":{\"colorbar\":{\"outlinewidth\":0,\"ticks\":\"\"}},\"type\":\"scattermapbox\"}],\"scatterpolargl\":[{\"marker\":{\"colorbar\":{\"outlinewidth\":0,\"ticks\":\"\"}},\"type\":\"scatterpolargl\"}],\"scatterpolar\":[{\"marker\":{\"colorbar\":{\"outlinewidth\":0,\"ticks\":\"\"}},\"type\":\"scatterpolar\"}],\"scatter\":[{\"fillpattern\":{\"fillmode\":\"overlay\",\"size\":10,\"solidity\":0.2},\"type\":\"scatter\"}],\"scatterternary\":[{\"marker\":{\"colorbar\":{\"outlinewidth\":0,\"ticks\":\"\"}},\"type\":\"scatterternary\"}],\"surface\":[{\"colorbar\":{\"outlinewidth\":0,\"ticks\":\"\"},\"colorscale\":[[0.0,\"#0d0887\"],[0.1111111111111111,\"#46039f\"],[0.2222222222222222,\"#7201a8\"],[0.3333333333333333,\"#9c179e\"],[0.4444444444444444,\"#bd3786\"],[0.5555555555555556,\"#d8576b\"],[0.6666666666666666,\"#ed7953\"],[0.7777777777777778,\"#fb9f3a\"],[0.8888888888888888,\"#fdca26\"],[1.0,\"#f0f921\"]],\"type\":\"surface\"}],\"table\":[{\"cells\":{\"fill\":{\"color\":\"#EBF0F8\"},\"line\":{\"color\":\"white\"}},\"header\":{\"fill\":{\"color\":\"#C8D4E3\"},\"line\":{\"color\":\"white\"}},\"type\":\"table\"}]},\"layout\":{\"annotationdefaults\":{\"arrowcolor\":\"#2a3f5f\",\"arrowhead\":0,\"arrowwidth\":1},\"autotypenumbers\":\"strict\",\"coloraxis\":{\"colorbar\":{\"outlinewidth\":0,\"ticks\":\"\"}},\"colorscale\":{\"diverging\":[[0,\"#8e0152\"],[0.1,\"#c51b7d\"],[0.2,\"#de77ae\"],[0.3,\"#f1b6da\"],[0.4,\"#fde0ef\"],[0.5,\"#f7f7f7\"],[0.6,\"#e6f5d0\"],[0.7,\"#b8e186\"],[0.8,\"#7fbc41\"],[0.9,\"#4d9221\"],[1,\"#276419\"]],\"sequential\":[[0.0,\"#0d0887\"],[0.1111111111111111,\"#46039f\"],[0.2222222222222222,\"#7201a8\"],[0.3333333333333333,\"#9c179e\"],[0.4444444444444444,\"#bd3786\"],[0.5555555555555556,\"#d8576b\"],[0.6666666666666666,\"#ed7953\"],[0.7777777777777778,\"#fb9f3a\"],[0.8888888888888888,\"#fdca26\"],[1.0,\"#f0f921\"]],\"sequentialminus\":[[0.0,\"#0d0887\"],[0.1111111111111111,\"#46039f\"],[0.2222222222222222,\"#7201a8\"],[0.3333333333333333,\"#9c179e\"],[0.4444444444444444,\"#bd3786\"],[0.5555555555555556,\"#d8576b\"],[0.6666666666666666,\"#ed7953\"],[0.7777777777777778,\"#fb9f3a\"],[0.8888888888888888,\"#fdca26\"],[1.0,\"#f0f921\"]]},\"colorway\":[\"#636efa\",\"#EF553B\",\"#00cc96\",\"#ab63fa\",\"#FFA15A\",\"#19d3f3\",\"#FF6692\",\"#B6E880\",\"#FF97FF\",\"#FECB52\"],\"font\":{\"color\":\"#2a3f5f\"},\"geo\":{\"bgcolor\":\"white\",\"lakecolor\":\"white\",\"landcolor\":\"white\",\"showlakes\":true,\"showland\":true,\"subunitcolor\":\"#C8D4E3\"},\"hoverlabel\":{\"align\":\"left\"},\"hovermode\":\"closest\",\"mapbox\":{\"style\":\"light\"},\"paper_bgcolor\":\"white\",\"plot_bgcolor\":\"white\",\"polar\":{\"angularaxis\":{\"gridcolor\":\"#EBF0F8\",\"linecolor\":\"#EBF0F8\",\"ticks\":\"\"},\"bgcolor\":\"white\",\"radialaxis\":{\"gridcolor\":\"#EBF0F8\",\"linecolor\":\"#EBF0F8\",\"ticks\":\"\"}},\"scene\":{\"xaxis\":{\"backgroundcolor\":\"white\",\"gridcolor\":\"#DFE8F3\",\"gridwidth\":2,\"linecolor\":\"#EBF0F8\",\"showbackground\":true,\"ticks\":\"\",\"zerolinecolor\":\"#EBF0F8\"},\"yaxis\":{\"backgroundcolor\":\"white\",\"gridcolor\":\"#DFE8F3\",\"gridwidth\":2,\"linecolor\":\"#EBF0F8\",\"showbackground\":true,\"ticks\":\"\",\"zerolinecolor\":\"#EBF0F8\"},\"zaxis\":{\"backgroundcolor\":\"white\",\"gridcolor\":\"#DFE8F3\",\"gridwidth\":2,\"linecolor\":\"#EBF0F8\",\"showbackground\":true,\"ticks\":\"\",\"zerolinecolor\":\"#EBF0F8\"}},\"shapedefaults\":{\"line\":{\"color\":\"#2a3f5f\"}},\"ternary\":{\"aaxis\":{\"gridcolor\":\"#DFE8F3\",\"linecolor\":\"#A2B1C6\",\"ticks\":\"\"},\"baxis\":{\"gridcolor\":\"#DFE8F3\",\"linecolor\":\"#A2B1C6\",\"ticks\":\"\"},\"bgcolor\":\"white\",\"caxis\":{\"gridcolor\":\"#DFE8F3\",\"linecolor\":\"#A2B1C6\",\"ticks\":\"\"}},\"title\":{\"x\":0.05},\"xaxis\":{\"automargin\":true,\"gridcolor\":\"#EBF0F8\",\"linecolor\":\"#EBF0F8\",\"ticks\":\"\",\"title\":{\"standoff\":15},\"zerolinecolor\":\"#EBF0F8\",\"zerolinewidth\":2},\"yaxis\":{\"automargin\":true,\"gridcolor\":\"#EBF0F8\",\"linecolor\":\"#EBF0F8\",\"ticks\":\"\",\"title\":{\"standoff\":15},\"zerolinecolor\":\"#EBF0F8\",\"zerolinewidth\":2}}},\"xaxis\":{\"anchor\":\"y\",\"domain\":[0.0,0.175],\"showgrid\":true},\"yaxis\":{\"anchor\":\"x\",\"domain\":[0.6000000000000001,1.0],\"showgrid\":true},\"xaxis2\":{\"anchor\":\"y2\",\"domain\":[0.275,0.45],\"showgrid\":true},\"yaxis2\":{\"anchor\":\"x2\",\"domain\":[0.6000000000000001,1.0],\"showgrid\":true},\"xaxis3\":{\"anchor\":\"y3\",\"domain\":[0.55,0.7250000000000001],\"showgrid\":true},\"yaxis3\":{\"anchor\":\"x3\",\"domain\":[0.6000000000000001,1.0],\"showgrid\":true},\"xaxis4\":{\"anchor\":\"y4\",\"domain\":[0.825,1.0],\"showgrid\":true},\"yaxis4\":{\"anchor\":\"x4\",\"domain\":[0.6000000000000001,1.0],\"showgrid\":true},\"xaxis5\":{\"anchor\":\"y5\",\"domain\":[0.0,0.175],\"showgrid\":true},\"yaxis5\":{\"anchor\":\"x5\",\"domain\":[0.0,0.4],\"showgrid\":true},\"xaxis6\":{\"anchor\":\"y6\",\"domain\":[0.275,0.45],\"showgrid\":true},\"yaxis6\":{\"anchor\":\"x6\",\"domain\":[0.0,0.4],\"showgrid\":true},\"xaxis7\":{\"anchor\":\"y7\",\"domain\":[0.55,0.7250000000000001],\"showgrid\":true},\"yaxis7\":{\"anchor\":\"x7\",\"domain\":[0.0,0.4],\"showgrid\":true},\"xaxis8\":{\"anchor\":\"y8\",\"domain\":[0.825,1.0],\"showgrid\":true},\"yaxis8\":{\"anchor\":\"x8\",\"domain\":[0.0,0.4],\"showgrid\":true},\"annotations\":[{\"font\":{\"size\":16},\"showarrow\":false,\"text\":\"Topic 0\",\"x\":0.0875,\"xanchor\":\"center\",\"xref\":\"paper\",\"y\":1.0,\"yanchor\":\"bottom\",\"yref\":\"paper\"},{\"font\":{\"size\":16},\"showarrow\":false,\"text\":\"Topic 1\",\"x\":0.36250000000000004,\"xanchor\":\"center\",\"xref\":\"paper\",\"y\":1.0,\"yanchor\":\"bottom\",\"yref\":\"paper\"},{\"font\":{\"size\":16},\"showarrow\":false,\"text\":\"Topic 2\",\"x\":0.6375000000000001,\"xanchor\":\"center\",\"xref\":\"paper\",\"y\":1.0,\"yanchor\":\"bottom\",\"yref\":\"paper\"},{\"font\":{\"size\":16},\"showarrow\":false,\"text\":\"Topic 3\",\"x\":0.9125,\"xanchor\":\"center\",\"xref\":\"paper\",\"y\":1.0,\"yanchor\":\"bottom\",\"yref\":\"paper\"},{\"font\":{\"size\":16},\"showarrow\":false,\"text\":\"Topic 4\",\"x\":0.0875,\"xanchor\":\"center\",\"xref\":\"paper\",\"y\":0.4,\"yanchor\":\"bottom\",\"yref\":\"paper\"},{\"font\":{\"size\":16},\"showarrow\":false,\"text\":\"Topic 5\",\"x\":0.36250000000000004,\"xanchor\":\"center\",\"xref\":\"paper\",\"y\":0.4,\"yanchor\":\"bottom\",\"yref\":\"paper\"},{\"font\":{\"size\":16},\"showarrow\":false,\"text\":\"Topic 6\",\"x\":0.6375000000000001,\"xanchor\":\"center\",\"xref\":\"paper\",\"y\":0.4,\"yanchor\":\"bottom\",\"yref\":\"paper\"},{\"font\":{\"size\":16},\"showarrow\":false,\"text\":\"Topic 7\",\"x\":0.9125,\"xanchor\":\"center\",\"xref\":\"paper\",\"y\":0.4,\"yanchor\":\"bottom\",\"yref\":\"paper\"}],\"title\":{\"font\":{\"size\":22,\"color\":\"Black\"},\"text\":\"Topic Word Scores\",\"x\":0.5,\"xanchor\":\"center\",\"yanchor\":\"top\"},\"hoverlabel\":{\"font\":{\"size\":16,\"family\":\"Rockwell\"},\"bgcolor\":\"white\"},\"showlegend\":false,\"width\":1000,\"height\":500},                        {\"responsive\": true}                    ).then(function(){\n",
       "                            \n",
       "var gd = document.getElementById('d3d0cd79-4a76-4310-b53b-0d3ba6352a0b');\n",
       "var x = new MutationObserver(function (mutations, observer) {{\n",
       "        var display = window.getComputedStyle(gd).display;\n",
       "        if (!display || display === 'none') {{\n",
       "            console.log([gd, 'removed!']);\n",
       "            Plotly.purge(gd);\n",
       "            observer.disconnect();\n",
       "        }}\n",
       "}});\n",
       "\n",
       "// Listen for the removal of the full notebook cells\n",
       "var notebookContainer = gd.closest('#notebook-container');\n",
       "if (notebookContainer) {{\n",
       "    x.observe(notebookContainer, {childList: true});\n",
       "}}\n",
       "\n",
       "// Listen for the clearing of the current output cell\n",
       "var outputEl = gd.closest('.output');\n",
       "if (outputEl) {{\n",
       "    x.observe(outputEl, {childList: true});\n",
       "}}\n",
       "\n",
       "                        })                };                });            </script>        </div>"
      ]
     },
     "metadata": {},
     "output_type": "display_data"
    }
   ],
   "source": [
    "UIM_topic_model.visualize_barchart()"
   ]
  },
  {
   "cell_type": "code",
   "execution_count": 54,
   "id": "41f2af1e",
   "metadata": {},
   "outputs": [],
   "source": [
    "NonUIM_comment = [x for x in NonUIM_comment['Comment'].values.tolist() if isinstance(x, str) and len(x.split(' ')) > 5]"
   ]
  },
  {
   "cell_type": "code",
   "execution_count": 55,
   "id": "9bac02a8",
   "metadata": {},
   "outputs": [
    {
     "data": {
      "application/vnd.jupyter.widget-view+json": {
       "model_id": "b296a682b2654578a343132b0ddd3b23",
       "version_major": 2,
       "version_minor": 0
      },
      "text/plain": [
       "Batches:   0%|          | 0/47 [00:00<?, ?it/s]"
      ]
     },
     "metadata": {},
     "output_type": "display_data"
    },
    {
     "name": "stderr",
     "output_type": "stream",
     "text": [
      "2023-10-02 20:03:59,719 - BERTopic - Transformed documents to Embeddings\n",
      "2023-10-02 20:04:02,720 - BERTopic - Reduced dimensionality\n",
      "2023-10-02 20:04:03,179 - BERTopic - Clustered reduced embeddings\n"
     ]
    }
   ],
   "source": [
    "NonUIM_topic_model = model.fit(NonUIM_comment)"
   ]
  },
  {
   "cell_type": "code",
   "execution_count": 56,
   "id": "3ece8fd2",
   "metadata": {},
   "outputs": [
    {
     "data": {
      "text/html": [
       "<div>\n",
       "<style scoped>\n",
       "    .dataframe tbody tr th:only-of-type {\n",
       "        vertical-align: middle;\n",
       "    }\n",
       "\n",
       "    .dataframe tbody tr th {\n",
       "        vertical-align: top;\n",
       "    }\n",
       "\n",
       "    .dataframe thead th {\n",
       "        text-align: right;\n",
       "    }\n",
       "</style>\n",
       "<table border=\"1\" class=\"dataframe\">\n",
       "  <thead>\n",
       "    <tr style=\"text-align: right;\">\n",
       "      <th></th>\n",
       "      <th>Topic</th>\n",
       "      <th>Count</th>\n",
       "      <th>Name</th>\n",
       "      <th>Representation</th>\n",
       "      <th>Representative_Docs</th>\n",
       "    </tr>\n",
       "  </thead>\n",
       "  <tbody>\n",
       "    <tr>\n",
       "      <th>0</th>\n",
       "      <td>-1</td>\n",
       "      <td>231</td>\n",
       "      <td>-1_xx_patients_patient_team</td>\n",
       "      <td>[xx, patients, patient, team, care]</td>\n",
       "      <td>[XX was an unparalleled advocate fantastic com...</td>\n",
       "    </tr>\n",
       "    <tr>\n",
       "      <th>1</th>\n",
       "      <td>0</td>\n",
       "      <td>77</td>\n",
       "      <td>0_skills_xx exhibited_professional skills_medi...</td>\n",
       "      <td>[skills, xx exhibited, professional skills, me...</td>\n",
       "      <td>[XX exhibited excellent knowledge and reasonin...</td>\n",
       "    </tr>\n",
       "    <tr>\n",
       "      <th>2</th>\n",
       "      <td>1</td>\n",
       "      <td>64</td>\n",
       "      <td>1_family medicine_family_inpatient_inpatient c...</td>\n",
       "      <td>[family medicine, family, inpatient, inpatient...</td>\n",
       "      <td>[On her Family Medicine Advanced Inpatient Cle...</td>\n",
       "    </tr>\n",
       "    <tr>\n",
       "      <th>3</th>\n",
       "      <td>2</td>\n",
       "      <td>55</td>\n",
       "      <td>2_outstanding_skills_skills medicine_professio...</td>\n",
       "      <td>[outstanding, skills, skills medicine, profess...</td>\n",
       "      <td>[XX exhibited outstanding knowledge and reason...</td>\n",
       "    </tr>\n",
       "    <tr>\n",
       "      <th>4</th>\n",
       "      <td>3</td>\n",
       "      <td>54</td>\n",
       "      <td>3_francisco general_san_san francisco_francisco</td>\n",
       "      <td>[francisco general, san, san francisco, franci...</td>\n",
       "      <td>[By the end of XX's subinternship in internal ...</td>\n",
       "    </tr>\n",
       "    <tr>\n",
       "      <th>...</th>\n",
       "      <td>...</td>\n",
       "      <td>...</td>\n",
       "      <td>...</td>\n",
       "      <td>...</td>\n",
       "      <td>...</td>\n",
       "    </tr>\n",
       "    <tr>\n",
       "      <th>86</th>\n",
       "      <td>85</td>\n",
       "      <td>6</td>\n",
       "      <td>85_james_yield_notes notes_fully reliable</td>\n",
       "      <td>[james, yield, notes notes, fully reliable, re...</td>\n",
       "      <td>[James did an excellent job on his medicine ac...</td>\n",
       "    </tr>\n",
       "    <tr>\n",
       "      <th>87</th>\n",
       "      <td>86</td>\n",
       "      <td>6</td>\n",
       "      <td>86_diagnostic_diagnosis_differential diagnosis...</td>\n",
       "      <td>[diagnostic, diagnosis, differential diagnosis...</td>\n",
       "      <td>[XX functioned at the level of an intern durin...</td>\n",
       "    </tr>\n",
       "    <tr>\n",
       "      <th>88</th>\n",
       "      <td>87</td>\n",
       "      <td>6</td>\n",
       "      <td>87_gabe_josh_patient admitted_team structure</td>\n",
       "      <td>[gabe, josh, patient admitted, team structure,...</td>\n",
       "      <td>[Gabe did outstanding work on his Family Medic...</td>\n",
       "    </tr>\n",
       "    <tr>\n",
       "      <th>89</th>\n",
       "      <td>88</td>\n",
       "      <td>6</td>\n",
       "      <td>88_alex_month alex_alex excellent_alex demonst...</td>\n",
       "      <td>[alex, month alex, alex excellent, alex demons...</td>\n",
       "      <td>[XX (Alex) did well in the patient care domain...</td>\n",
       "    </tr>\n",
       "    <tr>\n",
       "      <th>90</th>\n",
       "      <td>89</td>\n",
       "      <td>5</td>\n",
       "      <td>89_marvelous_family palliative_palliative care...</td>\n",
       "      <td>[marvelous, family palliative, palliative care...</td>\n",
       "      <td>[XX demonstrated excellent knowledge/reasoning...</td>\n",
       "    </tr>\n",
       "  </tbody>\n",
       "</table>\n",
       "<p>91 rows × 5 columns</p>\n",
       "</div>"
      ],
      "text/plain": [
       "    Topic  Count                                               Name  \\\n",
       "0      -1    231                        -1_xx_patients_patient_team   \n",
       "1       0     77  0_skills_xx exhibited_professional skills_medi...   \n",
       "2       1     64  1_family medicine_family_inpatient_inpatient c...   \n",
       "3       2     55  2_outstanding_skills_skills medicine_professio...   \n",
       "4       3     54    3_francisco general_san_san francisco_francisco   \n",
       "..    ...    ...                                                ...   \n",
       "86     85      6          85_james_yield_notes notes_fully reliable   \n",
       "87     86      6  86_diagnostic_diagnosis_differential diagnosis...   \n",
       "88     87      6       87_gabe_josh_patient admitted_team structure   \n",
       "89     88      6  88_alex_month alex_alex excellent_alex demonst...   \n",
       "90     89      5  89_marvelous_family palliative_palliative care...   \n",
       "\n",
       "                                       Representation  \\\n",
       "0                 [xx, patients, patient, team, care]   \n",
       "1   [skills, xx exhibited, professional skills, me...   \n",
       "2   [family medicine, family, inpatient, inpatient...   \n",
       "3   [outstanding, skills, skills medicine, profess...   \n",
       "4   [francisco general, san, san francisco, franci...   \n",
       "..                                                ...   \n",
       "86  [james, yield, notes notes, fully reliable, re...   \n",
       "87  [diagnostic, diagnosis, differential diagnosis...   \n",
       "88  [gabe, josh, patient admitted, team structure,...   \n",
       "89  [alex, month alex, alex excellent, alex demons...   \n",
       "90  [marvelous, family palliative, palliative care...   \n",
       "\n",
       "                                  Representative_Docs  \n",
       "0   [XX was an unparalleled advocate fantastic com...  \n",
       "1   [XX exhibited excellent knowledge and reasonin...  \n",
       "2   [On her Family Medicine Advanced Inpatient Cle...  \n",
       "3   [XX exhibited outstanding knowledge and reason...  \n",
       "4   [By the end of XX's subinternship in internal ...  \n",
       "..                                                ...  \n",
       "86  [James did an excellent job on his medicine ac...  \n",
       "87  [XX functioned at the level of an intern durin...  \n",
       "88  [Gabe did outstanding work on his Family Medic...  \n",
       "89  [XX (Alex) did well in the patient care domain...  \n",
       "90  [XX demonstrated excellent knowledge/reasoning...  \n",
       "\n",
       "[91 rows x 5 columns]"
      ]
     },
     "execution_count": 56,
     "metadata": {},
     "output_type": "execute_result"
    }
   ],
   "source": [
    "NonUIM_topic_model.get_topic_info()"
   ]
  },
  {
   "cell_type": "code",
   "execution_count": 57,
   "id": "250dd7a7",
   "metadata": {},
   "outputs": [
    {
     "data": {
      "application/vnd.plotly.v1+json": {
       "config": {
        "plotlyServerURL": "https://plot.ly"
       },
       "data": [
        {
         "marker": {
          "color": "#D55E00"
         },
         "orientation": "h",
         "type": "bar",
         "x": [
          0.010947023495111995,
          0.010953932537666513,
          0.010961822396739224,
          0.010969736412834462,
          0.01201523100540568
         ],
         "xaxis": "x",
         "y": [
          "exhibited  ",
          "medicine sub  ",
          "professional skills  ",
          "xx exhibited  ",
          "skills  "
         ],
         "yaxis": "y"
        },
        {
         "marker": {
          "color": "#0072B2"
         },
         "orientation": "h",
         "type": "bar",
         "x": [
          0.015180874170570543,
          0.015426646937318626,
          0.016652905582483262,
          0.016773046040178954,
          0.01727285624990246
         ],
         "xaxis": "x2",
         "y": [
          "advanced inpatient  ",
          "inpatient clerkship  ",
          "inpatient  ",
          "family  ",
          "family medicine  "
         ],
         "yaxis": "y2"
        },
        {
         "marker": {
          "color": "#CC79A7"
         },
         "orientation": "h",
         "type": "bar",
         "x": [
          0.010545190542106755,
          0.010641278958277172,
          0.010901106270959915,
          0.011138483820908308,
          0.013935602422466348
         ],
         "xaxis": "x3",
         "y": [
          "medicine sub  ",
          "professional skills  ",
          "skills medicine  ",
          "skills  ",
          "outstanding  "
         ],
         "yaxis": "y3"
        },
        {
         "marker": {
          "color": "#E69F00"
         },
         "orientation": "h",
         "type": "bar",
         "x": [
          0.009422124009095782,
          0.009672698475706102,
          0.009672698475706102,
          0.009672698475706102,
          0.0097898053656438
         ],
         "xaxis": "x4",
         "y": [
          "general hospital  ",
          "francisco  ",
          "san francisco  ",
          "san  ",
          "francisco general  "
         ],
         "yaxis": "y4"
        },
        {
         "marker": {
          "color": "#56B4E9"
         },
         "orientation": "h",
         "type": "bar",
         "x": [
          0.009582704604251546,
          0.00969613456954714,
          0.010056416160624883,
          0.01025357215685025,
          0.01126391034158006
         ],
         "xaxis": "x5",
         "y": [
          "interpersonal  ",
          "skills  ",
          "xx displayed  ",
          "excellent  ",
          "xx  "
         ],
         "yaxis": "y5"
        },
        {
         "marker": {
          "color": "#009E73"
         },
         "orientation": "h",
         "type": "bar",
         "x": [
          0.013058653001009531,
          0.01316668744474047,
          0.013202500573448756,
          0.013202500573448756,
          0.013202500573448756
         ],
         "xaxis": "x6",
         "y": [
          "francisco general  ",
          "general hospital  ",
          "francisco  ",
          "san  ",
          "san francisco  "
         ],
         "yaxis": "y6"
        },
        {
         "marker": {
          "color": "#F0E442"
         },
         "orientation": "h",
         "type": "bar",
         "x": [
          0.010464733256294365,
          0.010942615027780296,
          0.011421960280624236,
          0.011783033016824462,
          0.015529031657035355
         ],
         "xaxis": "x7",
         "y": [
          "clinical skills  ",
          "clinical  ",
          "xx displayed  ",
          "displayed  ",
          "zac  "
         ],
         "yaxis": "y7"
        },
        {
         "marker": {
          "color": "#D55E00"
         },
         "orientation": "h",
         "type": "bar",
         "x": [
          0.009462490529269969,
          0.00947918678697336,
          0.010077382900719047,
          0.0104947329774329,
          0.012057057732355653
         ],
         "xaxis": "x8",
         "y": [
          "xx  ",
          "communication professional  ",
          "patients  ",
          "displayed  ",
          "clinical  "
         ],
         "yaxis": "y8"
        }
       ],
       "layout": {
        "annotations": [
         {
          "font": {
           "size": 16
          },
          "showarrow": false,
          "text": "Topic 0",
          "x": 0.0875,
          "xanchor": "center",
          "xref": "paper",
          "y": 1,
          "yanchor": "bottom",
          "yref": "paper"
         },
         {
          "font": {
           "size": 16
          },
          "showarrow": false,
          "text": "Topic 1",
          "x": 0.36250000000000004,
          "xanchor": "center",
          "xref": "paper",
          "y": 1,
          "yanchor": "bottom",
          "yref": "paper"
         },
         {
          "font": {
           "size": 16
          },
          "showarrow": false,
          "text": "Topic 2",
          "x": 0.6375000000000001,
          "xanchor": "center",
          "xref": "paper",
          "y": 1,
          "yanchor": "bottom",
          "yref": "paper"
         },
         {
          "font": {
           "size": 16
          },
          "showarrow": false,
          "text": "Topic 3",
          "x": 0.9125,
          "xanchor": "center",
          "xref": "paper",
          "y": 1,
          "yanchor": "bottom",
          "yref": "paper"
         },
         {
          "font": {
           "size": 16
          },
          "showarrow": false,
          "text": "Topic 4",
          "x": 0.0875,
          "xanchor": "center",
          "xref": "paper",
          "y": 0.4,
          "yanchor": "bottom",
          "yref": "paper"
         },
         {
          "font": {
           "size": 16
          },
          "showarrow": false,
          "text": "Topic 5",
          "x": 0.36250000000000004,
          "xanchor": "center",
          "xref": "paper",
          "y": 0.4,
          "yanchor": "bottom",
          "yref": "paper"
         },
         {
          "font": {
           "size": 16
          },
          "showarrow": false,
          "text": "Topic 6",
          "x": 0.6375000000000001,
          "xanchor": "center",
          "xref": "paper",
          "y": 0.4,
          "yanchor": "bottom",
          "yref": "paper"
         },
         {
          "font": {
           "size": 16
          },
          "showarrow": false,
          "text": "Topic 7",
          "x": 0.9125,
          "xanchor": "center",
          "xref": "paper",
          "y": 0.4,
          "yanchor": "bottom",
          "yref": "paper"
         }
        ],
        "height": 500,
        "hoverlabel": {
         "bgcolor": "white",
         "font": {
          "family": "Rockwell",
          "size": 16
         }
        },
        "showlegend": false,
        "template": {
         "data": {
          "bar": [
           {
            "error_x": {
             "color": "#2a3f5f"
            },
            "error_y": {
             "color": "#2a3f5f"
            },
            "marker": {
             "line": {
              "color": "white",
              "width": 0.5
             },
             "pattern": {
              "fillmode": "overlay",
              "size": 10,
              "solidity": 0.2
             }
            },
            "type": "bar"
           }
          ],
          "barpolar": [
           {
            "marker": {
             "line": {
              "color": "white",
              "width": 0.5
             },
             "pattern": {
              "fillmode": "overlay",
              "size": 10,
              "solidity": 0.2
             }
            },
            "type": "barpolar"
           }
          ],
          "carpet": [
           {
            "aaxis": {
             "endlinecolor": "#2a3f5f",
             "gridcolor": "#C8D4E3",
             "linecolor": "#C8D4E3",
             "minorgridcolor": "#C8D4E3",
             "startlinecolor": "#2a3f5f"
            },
            "baxis": {
             "endlinecolor": "#2a3f5f",
             "gridcolor": "#C8D4E3",
             "linecolor": "#C8D4E3",
             "minorgridcolor": "#C8D4E3",
             "startlinecolor": "#2a3f5f"
            },
            "type": "carpet"
           }
          ],
          "choropleth": [
           {
            "colorbar": {
             "outlinewidth": 0,
             "ticks": ""
            },
            "type": "choropleth"
           }
          ],
          "contour": [
           {
            "colorbar": {
             "outlinewidth": 0,
             "ticks": ""
            },
            "colorscale": [
             [
              0,
              "#0d0887"
             ],
             [
              0.1111111111111111,
              "#46039f"
             ],
             [
              0.2222222222222222,
              "#7201a8"
             ],
             [
              0.3333333333333333,
              "#9c179e"
             ],
             [
              0.4444444444444444,
              "#bd3786"
             ],
             [
              0.5555555555555556,
              "#d8576b"
             ],
             [
              0.6666666666666666,
              "#ed7953"
             ],
             [
              0.7777777777777778,
              "#fb9f3a"
             ],
             [
              0.8888888888888888,
              "#fdca26"
             ],
             [
              1,
              "#f0f921"
             ]
            ],
            "type": "contour"
           }
          ],
          "contourcarpet": [
           {
            "colorbar": {
             "outlinewidth": 0,
             "ticks": ""
            },
            "type": "contourcarpet"
           }
          ],
          "heatmap": [
           {
            "colorbar": {
             "outlinewidth": 0,
             "ticks": ""
            },
            "colorscale": [
             [
              0,
              "#0d0887"
             ],
             [
              0.1111111111111111,
              "#46039f"
             ],
             [
              0.2222222222222222,
              "#7201a8"
             ],
             [
              0.3333333333333333,
              "#9c179e"
             ],
             [
              0.4444444444444444,
              "#bd3786"
             ],
             [
              0.5555555555555556,
              "#d8576b"
             ],
             [
              0.6666666666666666,
              "#ed7953"
             ],
             [
              0.7777777777777778,
              "#fb9f3a"
             ],
             [
              0.8888888888888888,
              "#fdca26"
             ],
             [
              1,
              "#f0f921"
             ]
            ],
            "type": "heatmap"
           }
          ],
          "heatmapgl": [
           {
            "colorbar": {
             "outlinewidth": 0,
             "ticks": ""
            },
            "colorscale": [
             [
              0,
              "#0d0887"
             ],
             [
              0.1111111111111111,
              "#46039f"
             ],
             [
              0.2222222222222222,
              "#7201a8"
             ],
             [
              0.3333333333333333,
              "#9c179e"
             ],
             [
              0.4444444444444444,
              "#bd3786"
             ],
             [
              0.5555555555555556,
              "#d8576b"
             ],
             [
              0.6666666666666666,
              "#ed7953"
             ],
             [
              0.7777777777777778,
              "#fb9f3a"
             ],
             [
              0.8888888888888888,
              "#fdca26"
             ],
             [
              1,
              "#f0f921"
             ]
            ],
            "type": "heatmapgl"
           }
          ],
          "histogram": [
           {
            "marker": {
             "pattern": {
              "fillmode": "overlay",
              "size": 10,
              "solidity": 0.2
             }
            },
            "type": "histogram"
           }
          ],
          "histogram2d": [
           {
            "colorbar": {
             "outlinewidth": 0,
             "ticks": ""
            },
            "colorscale": [
             [
              0,
              "#0d0887"
             ],
             [
              0.1111111111111111,
              "#46039f"
             ],
             [
              0.2222222222222222,
              "#7201a8"
             ],
             [
              0.3333333333333333,
              "#9c179e"
             ],
             [
              0.4444444444444444,
              "#bd3786"
             ],
             [
              0.5555555555555556,
              "#d8576b"
             ],
             [
              0.6666666666666666,
              "#ed7953"
             ],
             [
              0.7777777777777778,
              "#fb9f3a"
             ],
             [
              0.8888888888888888,
              "#fdca26"
             ],
             [
              1,
              "#f0f921"
             ]
            ],
            "type": "histogram2d"
           }
          ],
          "histogram2dcontour": [
           {
            "colorbar": {
             "outlinewidth": 0,
             "ticks": ""
            },
            "colorscale": [
             [
              0,
              "#0d0887"
             ],
             [
              0.1111111111111111,
              "#46039f"
             ],
             [
              0.2222222222222222,
              "#7201a8"
             ],
             [
              0.3333333333333333,
              "#9c179e"
             ],
             [
              0.4444444444444444,
              "#bd3786"
             ],
             [
              0.5555555555555556,
              "#d8576b"
             ],
             [
              0.6666666666666666,
              "#ed7953"
             ],
             [
              0.7777777777777778,
              "#fb9f3a"
             ],
             [
              0.8888888888888888,
              "#fdca26"
             ],
             [
              1,
              "#f0f921"
             ]
            ],
            "type": "histogram2dcontour"
           }
          ],
          "mesh3d": [
           {
            "colorbar": {
             "outlinewidth": 0,
             "ticks": ""
            },
            "type": "mesh3d"
           }
          ],
          "parcoords": [
           {
            "line": {
             "colorbar": {
              "outlinewidth": 0,
              "ticks": ""
             }
            },
            "type": "parcoords"
           }
          ],
          "pie": [
           {
            "automargin": true,
            "type": "pie"
           }
          ],
          "scatter": [
           {
            "fillpattern": {
             "fillmode": "overlay",
             "size": 10,
             "solidity": 0.2
            },
            "type": "scatter"
           }
          ],
          "scatter3d": [
           {
            "line": {
             "colorbar": {
              "outlinewidth": 0,
              "ticks": ""
             }
            },
            "marker": {
             "colorbar": {
              "outlinewidth": 0,
              "ticks": ""
             }
            },
            "type": "scatter3d"
           }
          ],
          "scattercarpet": [
           {
            "marker": {
             "colorbar": {
              "outlinewidth": 0,
              "ticks": ""
             }
            },
            "type": "scattercarpet"
           }
          ],
          "scattergeo": [
           {
            "marker": {
             "colorbar": {
              "outlinewidth": 0,
              "ticks": ""
             }
            },
            "type": "scattergeo"
           }
          ],
          "scattergl": [
           {
            "marker": {
             "colorbar": {
              "outlinewidth": 0,
              "ticks": ""
             }
            },
            "type": "scattergl"
           }
          ],
          "scattermapbox": [
           {
            "marker": {
             "colorbar": {
              "outlinewidth": 0,
              "ticks": ""
             }
            },
            "type": "scattermapbox"
           }
          ],
          "scatterpolar": [
           {
            "marker": {
             "colorbar": {
              "outlinewidth": 0,
              "ticks": ""
             }
            },
            "type": "scatterpolar"
           }
          ],
          "scatterpolargl": [
           {
            "marker": {
             "colorbar": {
              "outlinewidth": 0,
              "ticks": ""
             }
            },
            "type": "scatterpolargl"
           }
          ],
          "scatterternary": [
           {
            "marker": {
             "colorbar": {
              "outlinewidth": 0,
              "ticks": ""
             }
            },
            "type": "scatterternary"
           }
          ],
          "surface": [
           {
            "colorbar": {
             "outlinewidth": 0,
             "ticks": ""
            },
            "colorscale": [
             [
              0,
              "#0d0887"
             ],
             [
              0.1111111111111111,
              "#46039f"
             ],
             [
              0.2222222222222222,
              "#7201a8"
             ],
             [
              0.3333333333333333,
              "#9c179e"
             ],
             [
              0.4444444444444444,
              "#bd3786"
             ],
             [
              0.5555555555555556,
              "#d8576b"
             ],
             [
              0.6666666666666666,
              "#ed7953"
             ],
             [
              0.7777777777777778,
              "#fb9f3a"
             ],
             [
              0.8888888888888888,
              "#fdca26"
             ],
             [
              1,
              "#f0f921"
             ]
            ],
            "type": "surface"
           }
          ],
          "table": [
           {
            "cells": {
             "fill": {
              "color": "#EBF0F8"
             },
             "line": {
              "color": "white"
             }
            },
            "header": {
             "fill": {
              "color": "#C8D4E3"
             },
             "line": {
              "color": "white"
             }
            },
            "type": "table"
           }
          ]
         },
         "layout": {
          "annotationdefaults": {
           "arrowcolor": "#2a3f5f",
           "arrowhead": 0,
           "arrowwidth": 1
          },
          "autotypenumbers": "strict",
          "coloraxis": {
           "colorbar": {
            "outlinewidth": 0,
            "ticks": ""
           }
          },
          "colorscale": {
           "diverging": [
            [
             0,
             "#8e0152"
            ],
            [
             0.1,
             "#c51b7d"
            ],
            [
             0.2,
             "#de77ae"
            ],
            [
             0.3,
             "#f1b6da"
            ],
            [
             0.4,
             "#fde0ef"
            ],
            [
             0.5,
             "#f7f7f7"
            ],
            [
             0.6,
             "#e6f5d0"
            ],
            [
             0.7,
             "#b8e186"
            ],
            [
             0.8,
             "#7fbc41"
            ],
            [
             0.9,
             "#4d9221"
            ],
            [
             1,
             "#276419"
            ]
           ],
           "sequential": [
            [
             0,
             "#0d0887"
            ],
            [
             0.1111111111111111,
             "#46039f"
            ],
            [
             0.2222222222222222,
             "#7201a8"
            ],
            [
             0.3333333333333333,
             "#9c179e"
            ],
            [
             0.4444444444444444,
             "#bd3786"
            ],
            [
             0.5555555555555556,
             "#d8576b"
            ],
            [
             0.6666666666666666,
             "#ed7953"
            ],
            [
             0.7777777777777778,
             "#fb9f3a"
            ],
            [
             0.8888888888888888,
             "#fdca26"
            ],
            [
             1,
             "#f0f921"
            ]
           ],
           "sequentialminus": [
            [
             0,
             "#0d0887"
            ],
            [
             0.1111111111111111,
             "#46039f"
            ],
            [
             0.2222222222222222,
             "#7201a8"
            ],
            [
             0.3333333333333333,
             "#9c179e"
            ],
            [
             0.4444444444444444,
             "#bd3786"
            ],
            [
             0.5555555555555556,
             "#d8576b"
            ],
            [
             0.6666666666666666,
             "#ed7953"
            ],
            [
             0.7777777777777778,
             "#fb9f3a"
            ],
            [
             0.8888888888888888,
             "#fdca26"
            ],
            [
             1,
             "#f0f921"
            ]
           ]
          },
          "colorway": [
           "#636efa",
           "#EF553B",
           "#00cc96",
           "#ab63fa",
           "#FFA15A",
           "#19d3f3",
           "#FF6692",
           "#B6E880",
           "#FF97FF",
           "#FECB52"
          ],
          "font": {
           "color": "#2a3f5f"
          },
          "geo": {
           "bgcolor": "white",
           "lakecolor": "white",
           "landcolor": "white",
           "showlakes": true,
           "showland": true,
           "subunitcolor": "#C8D4E3"
          },
          "hoverlabel": {
           "align": "left"
          },
          "hovermode": "closest",
          "mapbox": {
           "style": "light"
          },
          "paper_bgcolor": "white",
          "plot_bgcolor": "white",
          "polar": {
           "angularaxis": {
            "gridcolor": "#EBF0F8",
            "linecolor": "#EBF0F8",
            "ticks": ""
           },
           "bgcolor": "white",
           "radialaxis": {
            "gridcolor": "#EBF0F8",
            "linecolor": "#EBF0F8",
            "ticks": ""
           }
          },
          "scene": {
           "xaxis": {
            "backgroundcolor": "white",
            "gridcolor": "#DFE8F3",
            "gridwidth": 2,
            "linecolor": "#EBF0F8",
            "showbackground": true,
            "ticks": "",
            "zerolinecolor": "#EBF0F8"
           },
           "yaxis": {
            "backgroundcolor": "white",
            "gridcolor": "#DFE8F3",
            "gridwidth": 2,
            "linecolor": "#EBF0F8",
            "showbackground": true,
            "ticks": "",
            "zerolinecolor": "#EBF0F8"
           },
           "zaxis": {
            "backgroundcolor": "white",
            "gridcolor": "#DFE8F3",
            "gridwidth": 2,
            "linecolor": "#EBF0F8",
            "showbackground": true,
            "ticks": "",
            "zerolinecolor": "#EBF0F8"
           }
          },
          "shapedefaults": {
           "line": {
            "color": "#2a3f5f"
           }
          },
          "ternary": {
           "aaxis": {
            "gridcolor": "#DFE8F3",
            "linecolor": "#A2B1C6",
            "ticks": ""
           },
           "baxis": {
            "gridcolor": "#DFE8F3",
            "linecolor": "#A2B1C6",
            "ticks": ""
           },
           "bgcolor": "white",
           "caxis": {
            "gridcolor": "#DFE8F3",
            "linecolor": "#A2B1C6",
            "ticks": ""
           }
          },
          "title": {
           "x": 0.05
          },
          "xaxis": {
           "automargin": true,
           "gridcolor": "#EBF0F8",
           "linecolor": "#EBF0F8",
           "ticks": "",
           "title": {
            "standoff": 15
           },
           "zerolinecolor": "#EBF0F8",
           "zerolinewidth": 2
          },
          "yaxis": {
           "automargin": true,
           "gridcolor": "#EBF0F8",
           "linecolor": "#EBF0F8",
           "ticks": "",
           "title": {
            "standoff": 15
           },
           "zerolinecolor": "#EBF0F8",
           "zerolinewidth": 2
          }
         }
        },
        "title": {
         "font": {
          "color": "Black",
          "size": 22
         },
         "text": "Topic Word Scores",
         "x": 0.5,
         "xanchor": "center",
         "yanchor": "top"
        },
        "width": 1000,
        "xaxis": {
         "anchor": "y",
         "domain": [
          0,
          0.175
         ],
         "showgrid": true
        },
        "xaxis2": {
         "anchor": "y2",
         "domain": [
          0.275,
          0.45
         ],
         "showgrid": true
        },
        "xaxis3": {
         "anchor": "y3",
         "domain": [
          0.55,
          0.7250000000000001
         ],
         "showgrid": true
        },
        "xaxis4": {
         "anchor": "y4",
         "domain": [
          0.825,
          1
         ],
         "showgrid": true
        },
        "xaxis5": {
         "anchor": "y5",
         "domain": [
          0,
          0.175
         ],
         "showgrid": true
        },
        "xaxis6": {
         "anchor": "y6",
         "domain": [
          0.275,
          0.45
         ],
         "showgrid": true
        },
        "xaxis7": {
         "anchor": "y7",
         "domain": [
          0.55,
          0.7250000000000001
         ],
         "showgrid": true
        },
        "xaxis8": {
         "anchor": "y8",
         "domain": [
          0.825,
          1
         ],
         "showgrid": true
        },
        "yaxis": {
         "anchor": "x",
         "domain": [
          0.6000000000000001,
          1
         ],
         "showgrid": true
        },
        "yaxis2": {
         "anchor": "x2",
         "domain": [
          0.6000000000000001,
          1
         ],
         "showgrid": true
        },
        "yaxis3": {
         "anchor": "x3",
         "domain": [
          0.6000000000000001,
          1
         ],
         "showgrid": true
        },
        "yaxis4": {
         "anchor": "x4",
         "domain": [
          0.6000000000000001,
          1
         ],
         "showgrid": true
        },
        "yaxis5": {
         "anchor": "x5",
         "domain": [
          0,
          0.4
         ],
         "showgrid": true
        },
        "yaxis6": {
         "anchor": "x6",
         "domain": [
          0,
          0.4
         ],
         "showgrid": true
        },
        "yaxis7": {
         "anchor": "x7",
         "domain": [
          0,
          0.4
         ],
         "showgrid": true
        },
        "yaxis8": {
         "anchor": "x8",
         "domain": [
          0,
          0.4
         ],
         "showgrid": true
        }
       }
      },
      "text/html": [
       "<div>                            <div id=\"5d0db5a6-c3b6-41cc-b6a7-f1c30c26cc0f\" class=\"plotly-graph-div\" style=\"height:500px; width:1000px;\"></div>            <script type=\"text/javascript\">                require([\"plotly\"], function(Plotly) {                    window.PLOTLYENV=window.PLOTLYENV || {};                                    if (document.getElementById(\"5d0db5a6-c3b6-41cc-b6a7-f1c30c26cc0f\")) {                    Plotly.newPlot(                        \"5d0db5a6-c3b6-41cc-b6a7-f1c30c26cc0f\",                        [{\"marker\":{\"color\":\"#D55E00\"},\"orientation\":\"h\",\"x\":[0.010947023495111995,0.010953932537666513,0.010961822396739224,0.010969736412834462,0.01201523100540568],\"y\":[\"exhibited  \",\"medicine sub  \",\"professional skills  \",\"xx exhibited  \",\"skills  \"],\"type\":\"bar\",\"xaxis\":\"x\",\"yaxis\":\"y\"},{\"marker\":{\"color\":\"#0072B2\"},\"orientation\":\"h\",\"x\":[0.015180874170570543,0.015426646937318626,0.016652905582483262,0.016773046040178954,0.01727285624990246],\"y\":[\"advanced inpatient  \",\"inpatient clerkship  \",\"inpatient  \",\"family  \",\"family medicine  \"],\"type\":\"bar\",\"xaxis\":\"x2\",\"yaxis\":\"y2\"},{\"marker\":{\"color\":\"#CC79A7\"},\"orientation\":\"h\",\"x\":[0.010545190542106755,0.010641278958277172,0.010901106270959915,0.011138483820908308,0.013935602422466348],\"y\":[\"medicine sub  \",\"professional skills  \",\"skills medicine  \",\"skills  \",\"outstanding  \"],\"type\":\"bar\",\"xaxis\":\"x3\",\"yaxis\":\"y3\"},{\"marker\":{\"color\":\"#E69F00\"},\"orientation\":\"h\",\"x\":[0.009422124009095782,0.009672698475706102,0.009672698475706102,0.009672698475706102,0.0097898053656438],\"y\":[\"general hospital  \",\"francisco  \",\"san francisco  \",\"san  \",\"francisco general  \"],\"type\":\"bar\",\"xaxis\":\"x4\",\"yaxis\":\"y4\"},{\"marker\":{\"color\":\"#56B4E9\"},\"orientation\":\"h\",\"x\":[0.009582704604251546,0.00969613456954714,0.010056416160624883,0.01025357215685025,0.01126391034158006],\"y\":[\"interpersonal  \",\"skills  \",\"xx displayed  \",\"excellent  \",\"xx  \"],\"type\":\"bar\",\"xaxis\":\"x5\",\"yaxis\":\"y5\"},{\"marker\":{\"color\":\"#009E73\"},\"orientation\":\"h\",\"x\":[0.013058653001009531,0.01316668744474047,0.013202500573448756,0.013202500573448756,0.013202500573448756],\"y\":[\"francisco general  \",\"general hospital  \",\"francisco  \",\"san  \",\"san francisco  \"],\"type\":\"bar\",\"xaxis\":\"x6\",\"yaxis\":\"y6\"},{\"marker\":{\"color\":\"#F0E442\"},\"orientation\":\"h\",\"x\":[0.010464733256294365,0.010942615027780296,0.011421960280624236,0.011783033016824462,0.015529031657035355],\"y\":[\"clinical skills  \",\"clinical  \",\"xx displayed  \",\"displayed  \",\"zac  \"],\"type\":\"bar\",\"xaxis\":\"x7\",\"yaxis\":\"y7\"},{\"marker\":{\"color\":\"#D55E00\"},\"orientation\":\"h\",\"x\":[0.009462490529269969,0.00947918678697336,0.010077382900719047,0.0104947329774329,0.012057057732355653],\"y\":[\"xx  \",\"communication professional  \",\"patients  \",\"displayed  \",\"clinical  \"],\"type\":\"bar\",\"xaxis\":\"x8\",\"yaxis\":\"y8\"}],                        {\"template\":{\"data\":{\"barpolar\":[{\"marker\":{\"line\":{\"color\":\"white\",\"width\":0.5},\"pattern\":{\"fillmode\":\"overlay\",\"size\":10,\"solidity\":0.2}},\"type\":\"barpolar\"}],\"bar\":[{\"error_x\":{\"color\":\"#2a3f5f\"},\"error_y\":{\"color\":\"#2a3f5f\"},\"marker\":{\"line\":{\"color\":\"white\",\"width\":0.5},\"pattern\":{\"fillmode\":\"overlay\",\"size\":10,\"solidity\":0.2}},\"type\":\"bar\"}],\"carpet\":[{\"aaxis\":{\"endlinecolor\":\"#2a3f5f\",\"gridcolor\":\"#C8D4E3\",\"linecolor\":\"#C8D4E3\",\"minorgridcolor\":\"#C8D4E3\",\"startlinecolor\":\"#2a3f5f\"},\"baxis\":{\"endlinecolor\":\"#2a3f5f\",\"gridcolor\":\"#C8D4E3\",\"linecolor\":\"#C8D4E3\",\"minorgridcolor\":\"#C8D4E3\",\"startlinecolor\":\"#2a3f5f\"},\"type\":\"carpet\"}],\"choropleth\":[{\"colorbar\":{\"outlinewidth\":0,\"ticks\":\"\"},\"type\":\"choropleth\"}],\"contourcarpet\":[{\"colorbar\":{\"outlinewidth\":0,\"ticks\":\"\"},\"type\":\"contourcarpet\"}],\"contour\":[{\"colorbar\":{\"outlinewidth\":0,\"ticks\":\"\"},\"colorscale\":[[0.0,\"#0d0887\"],[0.1111111111111111,\"#46039f\"],[0.2222222222222222,\"#7201a8\"],[0.3333333333333333,\"#9c179e\"],[0.4444444444444444,\"#bd3786\"],[0.5555555555555556,\"#d8576b\"],[0.6666666666666666,\"#ed7953\"],[0.7777777777777778,\"#fb9f3a\"],[0.8888888888888888,\"#fdca26\"],[1.0,\"#f0f921\"]],\"type\":\"contour\"}],\"heatmapgl\":[{\"colorbar\":{\"outlinewidth\":0,\"ticks\":\"\"},\"colorscale\":[[0.0,\"#0d0887\"],[0.1111111111111111,\"#46039f\"],[0.2222222222222222,\"#7201a8\"],[0.3333333333333333,\"#9c179e\"],[0.4444444444444444,\"#bd3786\"],[0.5555555555555556,\"#d8576b\"],[0.6666666666666666,\"#ed7953\"],[0.7777777777777778,\"#fb9f3a\"],[0.8888888888888888,\"#fdca26\"],[1.0,\"#f0f921\"]],\"type\":\"heatmapgl\"}],\"heatmap\":[{\"colorbar\":{\"outlinewidth\":0,\"ticks\":\"\"},\"colorscale\":[[0.0,\"#0d0887\"],[0.1111111111111111,\"#46039f\"],[0.2222222222222222,\"#7201a8\"],[0.3333333333333333,\"#9c179e\"],[0.4444444444444444,\"#bd3786\"],[0.5555555555555556,\"#d8576b\"],[0.6666666666666666,\"#ed7953\"],[0.7777777777777778,\"#fb9f3a\"],[0.8888888888888888,\"#fdca26\"],[1.0,\"#f0f921\"]],\"type\":\"heatmap\"}],\"histogram2dcontour\":[{\"colorbar\":{\"outlinewidth\":0,\"ticks\":\"\"},\"colorscale\":[[0.0,\"#0d0887\"],[0.1111111111111111,\"#46039f\"],[0.2222222222222222,\"#7201a8\"],[0.3333333333333333,\"#9c179e\"],[0.4444444444444444,\"#bd3786\"],[0.5555555555555556,\"#d8576b\"],[0.6666666666666666,\"#ed7953\"],[0.7777777777777778,\"#fb9f3a\"],[0.8888888888888888,\"#fdca26\"],[1.0,\"#f0f921\"]],\"type\":\"histogram2dcontour\"}],\"histogram2d\":[{\"colorbar\":{\"outlinewidth\":0,\"ticks\":\"\"},\"colorscale\":[[0.0,\"#0d0887\"],[0.1111111111111111,\"#46039f\"],[0.2222222222222222,\"#7201a8\"],[0.3333333333333333,\"#9c179e\"],[0.4444444444444444,\"#bd3786\"],[0.5555555555555556,\"#d8576b\"],[0.6666666666666666,\"#ed7953\"],[0.7777777777777778,\"#fb9f3a\"],[0.8888888888888888,\"#fdca26\"],[1.0,\"#f0f921\"]],\"type\":\"histogram2d\"}],\"histogram\":[{\"marker\":{\"pattern\":{\"fillmode\":\"overlay\",\"size\":10,\"solidity\":0.2}},\"type\":\"histogram\"}],\"mesh3d\":[{\"colorbar\":{\"outlinewidth\":0,\"ticks\":\"\"},\"type\":\"mesh3d\"}],\"parcoords\":[{\"line\":{\"colorbar\":{\"outlinewidth\":0,\"ticks\":\"\"}},\"type\":\"parcoords\"}],\"pie\":[{\"automargin\":true,\"type\":\"pie\"}],\"scatter3d\":[{\"line\":{\"colorbar\":{\"outlinewidth\":0,\"ticks\":\"\"}},\"marker\":{\"colorbar\":{\"outlinewidth\":0,\"ticks\":\"\"}},\"type\":\"scatter3d\"}],\"scattercarpet\":[{\"marker\":{\"colorbar\":{\"outlinewidth\":0,\"ticks\":\"\"}},\"type\":\"scattercarpet\"}],\"scattergeo\":[{\"marker\":{\"colorbar\":{\"outlinewidth\":0,\"ticks\":\"\"}},\"type\":\"scattergeo\"}],\"scattergl\":[{\"marker\":{\"colorbar\":{\"outlinewidth\":0,\"ticks\":\"\"}},\"type\":\"scattergl\"}],\"scattermapbox\":[{\"marker\":{\"colorbar\":{\"outlinewidth\":0,\"ticks\":\"\"}},\"type\":\"scattermapbox\"}],\"scatterpolargl\":[{\"marker\":{\"colorbar\":{\"outlinewidth\":0,\"ticks\":\"\"}},\"type\":\"scatterpolargl\"}],\"scatterpolar\":[{\"marker\":{\"colorbar\":{\"outlinewidth\":0,\"ticks\":\"\"}},\"type\":\"scatterpolar\"}],\"scatter\":[{\"fillpattern\":{\"fillmode\":\"overlay\",\"size\":10,\"solidity\":0.2},\"type\":\"scatter\"}],\"scatterternary\":[{\"marker\":{\"colorbar\":{\"outlinewidth\":0,\"ticks\":\"\"}},\"type\":\"scatterternary\"}],\"surface\":[{\"colorbar\":{\"outlinewidth\":0,\"ticks\":\"\"},\"colorscale\":[[0.0,\"#0d0887\"],[0.1111111111111111,\"#46039f\"],[0.2222222222222222,\"#7201a8\"],[0.3333333333333333,\"#9c179e\"],[0.4444444444444444,\"#bd3786\"],[0.5555555555555556,\"#d8576b\"],[0.6666666666666666,\"#ed7953\"],[0.7777777777777778,\"#fb9f3a\"],[0.8888888888888888,\"#fdca26\"],[1.0,\"#f0f921\"]],\"type\":\"surface\"}],\"table\":[{\"cells\":{\"fill\":{\"color\":\"#EBF0F8\"},\"line\":{\"color\":\"white\"}},\"header\":{\"fill\":{\"color\":\"#C8D4E3\"},\"line\":{\"color\":\"white\"}},\"type\":\"table\"}]},\"layout\":{\"annotationdefaults\":{\"arrowcolor\":\"#2a3f5f\",\"arrowhead\":0,\"arrowwidth\":1},\"autotypenumbers\":\"strict\",\"coloraxis\":{\"colorbar\":{\"outlinewidth\":0,\"ticks\":\"\"}},\"colorscale\":{\"diverging\":[[0,\"#8e0152\"],[0.1,\"#c51b7d\"],[0.2,\"#de77ae\"],[0.3,\"#f1b6da\"],[0.4,\"#fde0ef\"],[0.5,\"#f7f7f7\"],[0.6,\"#e6f5d0\"],[0.7,\"#b8e186\"],[0.8,\"#7fbc41\"],[0.9,\"#4d9221\"],[1,\"#276419\"]],\"sequential\":[[0.0,\"#0d0887\"],[0.1111111111111111,\"#46039f\"],[0.2222222222222222,\"#7201a8\"],[0.3333333333333333,\"#9c179e\"],[0.4444444444444444,\"#bd3786\"],[0.5555555555555556,\"#d8576b\"],[0.6666666666666666,\"#ed7953\"],[0.7777777777777778,\"#fb9f3a\"],[0.8888888888888888,\"#fdca26\"],[1.0,\"#f0f921\"]],\"sequentialminus\":[[0.0,\"#0d0887\"],[0.1111111111111111,\"#46039f\"],[0.2222222222222222,\"#7201a8\"],[0.3333333333333333,\"#9c179e\"],[0.4444444444444444,\"#bd3786\"],[0.5555555555555556,\"#d8576b\"],[0.6666666666666666,\"#ed7953\"],[0.7777777777777778,\"#fb9f3a\"],[0.8888888888888888,\"#fdca26\"],[1.0,\"#f0f921\"]]},\"colorway\":[\"#636efa\",\"#EF553B\",\"#00cc96\",\"#ab63fa\",\"#FFA15A\",\"#19d3f3\",\"#FF6692\",\"#B6E880\",\"#FF97FF\",\"#FECB52\"],\"font\":{\"color\":\"#2a3f5f\"},\"geo\":{\"bgcolor\":\"white\",\"lakecolor\":\"white\",\"landcolor\":\"white\",\"showlakes\":true,\"showland\":true,\"subunitcolor\":\"#C8D4E3\"},\"hoverlabel\":{\"align\":\"left\"},\"hovermode\":\"closest\",\"mapbox\":{\"style\":\"light\"},\"paper_bgcolor\":\"white\",\"plot_bgcolor\":\"white\",\"polar\":{\"angularaxis\":{\"gridcolor\":\"#EBF0F8\",\"linecolor\":\"#EBF0F8\",\"ticks\":\"\"},\"bgcolor\":\"white\",\"radialaxis\":{\"gridcolor\":\"#EBF0F8\",\"linecolor\":\"#EBF0F8\",\"ticks\":\"\"}},\"scene\":{\"xaxis\":{\"backgroundcolor\":\"white\",\"gridcolor\":\"#DFE8F3\",\"gridwidth\":2,\"linecolor\":\"#EBF0F8\",\"showbackground\":true,\"ticks\":\"\",\"zerolinecolor\":\"#EBF0F8\"},\"yaxis\":{\"backgroundcolor\":\"white\",\"gridcolor\":\"#DFE8F3\",\"gridwidth\":2,\"linecolor\":\"#EBF0F8\",\"showbackground\":true,\"ticks\":\"\",\"zerolinecolor\":\"#EBF0F8\"},\"zaxis\":{\"backgroundcolor\":\"white\",\"gridcolor\":\"#DFE8F3\",\"gridwidth\":2,\"linecolor\":\"#EBF0F8\",\"showbackground\":true,\"ticks\":\"\",\"zerolinecolor\":\"#EBF0F8\"}},\"shapedefaults\":{\"line\":{\"color\":\"#2a3f5f\"}},\"ternary\":{\"aaxis\":{\"gridcolor\":\"#DFE8F3\",\"linecolor\":\"#A2B1C6\",\"ticks\":\"\"},\"baxis\":{\"gridcolor\":\"#DFE8F3\",\"linecolor\":\"#A2B1C6\",\"ticks\":\"\"},\"bgcolor\":\"white\",\"caxis\":{\"gridcolor\":\"#DFE8F3\",\"linecolor\":\"#A2B1C6\",\"ticks\":\"\"}},\"title\":{\"x\":0.05},\"xaxis\":{\"automargin\":true,\"gridcolor\":\"#EBF0F8\",\"linecolor\":\"#EBF0F8\",\"ticks\":\"\",\"title\":{\"standoff\":15},\"zerolinecolor\":\"#EBF0F8\",\"zerolinewidth\":2},\"yaxis\":{\"automargin\":true,\"gridcolor\":\"#EBF0F8\",\"linecolor\":\"#EBF0F8\",\"ticks\":\"\",\"title\":{\"standoff\":15},\"zerolinecolor\":\"#EBF0F8\",\"zerolinewidth\":2}}},\"xaxis\":{\"anchor\":\"y\",\"domain\":[0.0,0.175],\"showgrid\":true},\"yaxis\":{\"anchor\":\"x\",\"domain\":[0.6000000000000001,1.0],\"showgrid\":true},\"xaxis2\":{\"anchor\":\"y2\",\"domain\":[0.275,0.45],\"showgrid\":true},\"yaxis2\":{\"anchor\":\"x2\",\"domain\":[0.6000000000000001,1.0],\"showgrid\":true},\"xaxis3\":{\"anchor\":\"y3\",\"domain\":[0.55,0.7250000000000001],\"showgrid\":true},\"yaxis3\":{\"anchor\":\"x3\",\"domain\":[0.6000000000000001,1.0],\"showgrid\":true},\"xaxis4\":{\"anchor\":\"y4\",\"domain\":[0.825,1.0],\"showgrid\":true},\"yaxis4\":{\"anchor\":\"x4\",\"domain\":[0.6000000000000001,1.0],\"showgrid\":true},\"xaxis5\":{\"anchor\":\"y5\",\"domain\":[0.0,0.175],\"showgrid\":true},\"yaxis5\":{\"anchor\":\"x5\",\"domain\":[0.0,0.4],\"showgrid\":true},\"xaxis6\":{\"anchor\":\"y6\",\"domain\":[0.275,0.45],\"showgrid\":true},\"yaxis6\":{\"anchor\":\"x6\",\"domain\":[0.0,0.4],\"showgrid\":true},\"xaxis7\":{\"anchor\":\"y7\",\"domain\":[0.55,0.7250000000000001],\"showgrid\":true},\"yaxis7\":{\"anchor\":\"x7\",\"domain\":[0.0,0.4],\"showgrid\":true},\"xaxis8\":{\"anchor\":\"y8\",\"domain\":[0.825,1.0],\"showgrid\":true},\"yaxis8\":{\"anchor\":\"x8\",\"domain\":[0.0,0.4],\"showgrid\":true},\"annotations\":[{\"font\":{\"size\":16},\"showarrow\":false,\"text\":\"Topic 0\",\"x\":0.0875,\"xanchor\":\"center\",\"xref\":\"paper\",\"y\":1.0,\"yanchor\":\"bottom\",\"yref\":\"paper\"},{\"font\":{\"size\":16},\"showarrow\":false,\"text\":\"Topic 1\",\"x\":0.36250000000000004,\"xanchor\":\"center\",\"xref\":\"paper\",\"y\":1.0,\"yanchor\":\"bottom\",\"yref\":\"paper\"},{\"font\":{\"size\":16},\"showarrow\":false,\"text\":\"Topic 2\",\"x\":0.6375000000000001,\"xanchor\":\"center\",\"xref\":\"paper\",\"y\":1.0,\"yanchor\":\"bottom\",\"yref\":\"paper\"},{\"font\":{\"size\":16},\"showarrow\":false,\"text\":\"Topic 3\",\"x\":0.9125,\"xanchor\":\"center\",\"xref\":\"paper\",\"y\":1.0,\"yanchor\":\"bottom\",\"yref\":\"paper\"},{\"font\":{\"size\":16},\"showarrow\":false,\"text\":\"Topic 4\",\"x\":0.0875,\"xanchor\":\"center\",\"xref\":\"paper\",\"y\":0.4,\"yanchor\":\"bottom\",\"yref\":\"paper\"},{\"font\":{\"size\":16},\"showarrow\":false,\"text\":\"Topic 5\",\"x\":0.36250000000000004,\"xanchor\":\"center\",\"xref\":\"paper\",\"y\":0.4,\"yanchor\":\"bottom\",\"yref\":\"paper\"},{\"font\":{\"size\":16},\"showarrow\":false,\"text\":\"Topic 6\",\"x\":0.6375000000000001,\"xanchor\":\"center\",\"xref\":\"paper\",\"y\":0.4,\"yanchor\":\"bottom\",\"yref\":\"paper\"},{\"font\":{\"size\":16},\"showarrow\":false,\"text\":\"Topic 7\",\"x\":0.9125,\"xanchor\":\"center\",\"xref\":\"paper\",\"y\":0.4,\"yanchor\":\"bottom\",\"yref\":\"paper\"}],\"title\":{\"font\":{\"size\":22,\"color\":\"Black\"},\"text\":\"Topic Word Scores\",\"x\":0.5,\"xanchor\":\"center\",\"yanchor\":\"top\"},\"hoverlabel\":{\"font\":{\"size\":16,\"family\":\"Rockwell\"},\"bgcolor\":\"white\"},\"showlegend\":false,\"width\":1000,\"height\":500},                        {\"responsive\": true}                    ).then(function(){\n",
       "                            \n",
       "var gd = document.getElementById('5d0db5a6-c3b6-41cc-b6a7-f1c30c26cc0f');\n",
       "var x = new MutationObserver(function (mutations, observer) {{\n",
       "        var display = window.getComputedStyle(gd).display;\n",
       "        if (!display || display === 'none') {{\n",
       "            console.log([gd, 'removed!']);\n",
       "            Plotly.purge(gd);\n",
       "            observer.disconnect();\n",
       "        }}\n",
       "}});\n",
       "\n",
       "// Listen for the removal of the full notebook cells\n",
       "var notebookContainer = gd.closest('#notebook-container');\n",
       "if (notebookContainer) {{\n",
       "    x.observe(notebookContainer, {childList: true});\n",
       "}}\n",
       "\n",
       "// Listen for the clearing of the current output cell\n",
       "var outputEl = gd.closest('.output');\n",
       "if (outputEl) {{\n",
       "    x.observe(outputEl, {childList: true});\n",
       "}}\n",
       "\n",
       "                        })                };                });            </script>        </div>"
      ]
     },
     "metadata": {},
     "output_type": "display_data"
    }
   ],
   "source": [
    "NonUIM_topic_model.visualize_barchart()"
   ]
  },
  {
   "cell_type": "code",
   "execution_count": null,
   "id": "42b20a81",
   "metadata": {},
   "outputs": [],
   "source": []
  },
  {
   "cell_type": "code",
   "execution_count": null,
   "id": "34c949fd",
   "metadata": {},
   "outputs": [],
   "source": []
  }
 ],
 "metadata": {
  "kernelspec": {
   "display_name": "evenv",
   "language": "python",
   "name": "python3"
  },
  "language_info": {
   "codemirror_mode": {
    "name": "ipython",
    "version": 3
   },
   "file_extension": ".py",
   "mimetype": "text/x-python",
   "name": "python",
   "nbconvert_exporter": "python",
   "pygments_lexer": "ipython3",
   "version": "3.9.16 (main, Jan 11 2023, 10:02:19) \n[Clang 14.0.6 ]"
  },
  "vscode": {
   "interpreter": {
    "hash": "21ad0eac2c8c1c9d7af9dab80102aa3a62d005e1144c9ec39781dd384b9b6cb5"
   }
  }
 },
 "nbformat": 4,
 "nbformat_minor": 5
}
